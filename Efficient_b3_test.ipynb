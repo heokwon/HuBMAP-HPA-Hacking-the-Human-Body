{
  "cells": [
    {
      "cell_type": "markdown",
      "metadata": {
        "id": "view-in-github",
        "colab_type": "text"
      },
      "source": [
        "<a href=\"https://colab.research.google.com/github/heokwon/i-seg-you/blob/main/Efficient_b3_test.ipynb\" target=\"_parent\"><img src=\"https://colab.research.google.com/assets/colab-badge.svg\" alt=\"Open In Colab\"/></a>"
      ]
    },
    {
      "cell_type": "code",
      "execution_count": null,
      "metadata": {
        "colab": {
          "base_uri": "https://localhost:8080/"
        },
        "id": "29aDlVuXXF2P",
        "outputId": "546225a1-d9de-4e22-c83b-e3abd8399554"
      },
      "outputs": [
        {
          "output_type": "stream",
          "name": "stdout",
          "text": [
            "Sat Sep 10 08:57:31 2022       \n",
            "+-----------------------------------------------------------------------------+\n",
            "| NVIDIA-SMI 460.32.03    Driver Version: 460.32.03    CUDA Version: 11.2     |\n",
            "|-------------------------------+----------------------+----------------------+\n",
            "| GPU  Name        Persistence-M| Bus-Id        Disp.A | Volatile Uncorr. ECC |\n",
            "| Fan  Temp  Perf  Pwr:Usage/Cap|         Memory-Usage | GPU-Util  Compute M. |\n",
            "|                               |                      |               MIG M. |\n",
            "|===============================+======================+======================|\n",
            "|   0  Tesla T4            Off  | 00000000:00:04.0 Off |                    0 |\n",
            "| N/A   44C    P8     9W /  70W |      0MiB / 15109MiB |      0%      Default |\n",
            "|                               |                      |                  N/A |\n",
            "+-------------------------------+----------------------+----------------------+\n",
            "                                                                               \n",
            "+-----------------------------------------------------------------------------+\n",
            "| Processes:                                                                  |\n",
            "|  GPU   GI   CI        PID   Type   Process name                  GPU Memory |\n",
            "|        ID   ID                                                   Usage      |\n",
            "|=============================================================================|\n",
            "|  No running processes found                                                 |\n",
            "+-----------------------------------------------------------------------------+\n"
          ]
        }
      ],
      "source": [
        "!nvidia-smi"
      ]
    },
    {
      "cell_type": "code",
      "source": [
        "from google.colab import drive\n",
        "drive.mount('/content/drive')"
      ],
      "metadata": {
        "colab": {
          "base_uri": "https://localhost:8080/"
        },
        "id": "L17835ZnM2Zf",
        "outputId": "402375fb-7575-4409-d922-127e595b91e2"
      },
      "execution_count": null,
      "outputs": [
        {
          "output_type": "stream",
          "name": "stdout",
          "text": [
            "Mounted at /content/drive\n"
          ]
        }
      ]
    },
    {
      "cell_type": "markdown",
      "metadata": {
        "id": "265r_Nphqodz"
      },
      "source": [
        "# Download"
      ]
    },
    {
      "cell_type": "code",
      "execution_count": null,
      "metadata": {
        "colab": {
          "base_uri": "https://localhost:8080/"
        },
        "id": "LeL5j95cVC8g",
        "outputId": "4d089786-0b5c-41d9-b829-a802273b0149"
      },
      "outputs": [
        {
          "output_type": "stream",
          "name": "stdout",
          "text": [
            "Looking in indexes: https://pypi.org/simple, https://us-python.pkg.dev/colab-wheels/public/simple/\n",
            "Collecting rasterio\n",
            "  Downloading rasterio-1.2.10-cp37-cp37m-manylinux1_x86_64.whl (19.3 MB)\n",
            "\u001b[K     |████████████████████████████████| 19.3 MB 14.6 MB/s \n",
            "\u001b[?25hCollecting efficientnet_pytorch\n",
            "  Downloading efficientnet_pytorch-0.7.1.tar.gz (21 kB)\n",
            "Collecting wandb\n",
            "  Downloading wandb-0.13.3-py2.py3-none-any.whl (1.8 MB)\n",
            "\u001b[K     |████████████████████████████████| 1.8 MB 55.7 MB/s \n",
            "\u001b[?25hRequirement already satisfied: click>=4.0 in /usr/local/lib/python3.7/dist-packages (from rasterio) (7.1.2)\n",
            "Collecting affine\n",
            "  Downloading affine-2.3.1-py2.py3-none-any.whl (16 kB)\n",
            "Requirement already satisfied: numpy in /usr/local/lib/python3.7/dist-packages (from rasterio) (1.21.6)\n",
            "Requirement already satisfied: certifi in /usr/local/lib/python3.7/dist-packages (from rasterio) (2022.6.15)\n",
            "Collecting cligj>=0.5\n",
            "  Downloading cligj-0.7.2-py3-none-any.whl (7.1 kB)\n",
            "Requirement already satisfied: attrs in /usr/local/lib/python3.7/dist-packages (from rasterio) (22.1.0)\n",
            "Collecting click-plugins\n",
            "  Downloading click_plugins-1.1.1-py2.py3-none-any.whl (7.5 kB)\n",
            "Requirement already satisfied: setuptools in /usr/local/lib/python3.7/dist-packages (from rasterio) (57.4.0)\n",
            "Collecting snuggs>=1.4.1\n",
            "  Downloading snuggs-1.4.7-py3-none-any.whl (5.4 kB)\n",
            "Requirement already satisfied: pyparsing>=2.1.6 in /usr/local/lib/python3.7/dist-packages (from snuggs>=1.4.1->rasterio) (3.0.9)\n",
            "Requirement already satisfied: torch in /usr/local/lib/python3.7/dist-packages (from efficientnet_pytorch) (1.12.1+cu113)\n",
            "Collecting GitPython>=1.0.0\n",
            "  Downloading GitPython-3.1.27-py3-none-any.whl (181 kB)\n",
            "\u001b[K     |████████████████████████████████| 181 kB 74.0 MB/s \n",
            "\u001b[?25hCollecting shortuuid>=0.5.0\n",
            "  Downloading shortuuid-1.0.9-py3-none-any.whl (9.4 kB)\n",
            "Requirement already satisfied: protobuf<4.0dev,>=3.12.0 in /usr/local/lib/python3.7/dist-packages (from wandb) (3.17.3)\n",
            "Requirement already satisfied: requests<3,>=2.0.0 in /usr/local/lib/python3.7/dist-packages (from wandb) (2.23.0)\n",
            "Collecting pathtools\n",
            "  Downloading pathtools-0.1.2.tar.gz (11 kB)\n",
            "Collecting sentry-sdk>=1.0.0\n",
            "  Downloading sentry_sdk-1.9.8-py2.py3-none-any.whl (158 kB)\n",
            "\u001b[K     |████████████████████████████████| 158 kB 65.1 MB/s \n",
            "\u001b[?25hCollecting docker-pycreds>=0.4.0\n",
            "  Downloading docker_pycreds-0.4.0-py2.py3-none-any.whl (9.0 kB)\n",
            "Collecting setproctitle\n",
            "  Downloading setproctitle-1.3.2-cp37-cp37m-manylinux_2_5_x86_64.manylinux1_x86_64.manylinux_2_17_x86_64.manylinux2014_x86_64.whl (30 kB)\n",
            "Requirement already satisfied: promise<3,>=2.0 in /usr/local/lib/python3.7/dist-packages (from wandb) (2.3)\n",
            "Requirement already satisfied: six>=1.13.0 in /usr/local/lib/python3.7/dist-packages (from wandb) (1.15.0)\n",
            "Requirement already satisfied: psutil>=5.0.0 in /usr/local/lib/python3.7/dist-packages (from wandb) (5.4.8)\n",
            "Requirement already satisfied: PyYAML in /usr/local/lib/python3.7/dist-packages (from wandb) (6.0)\n",
            "Collecting gitdb<5,>=4.0.1\n",
            "  Downloading gitdb-4.0.9-py3-none-any.whl (63 kB)\n",
            "\u001b[K     |████████████████████████████████| 63 kB 2.0 MB/s \n",
            "\u001b[?25hRequirement already satisfied: typing-extensions>=3.7.4.3 in /usr/local/lib/python3.7/dist-packages (from GitPython>=1.0.0->wandb) (4.1.1)\n",
            "Collecting smmap<6,>=3.0.1\n",
            "  Downloading smmap-5.0.0-py3-none-any.whl (24 kB)\n",
            "Requirement already satisfied: idna<3,>=2.5 in /usr/local/lib/python3.7/dist-packages (from requests<3,>=2.0.0->wandb) (2.10)\n",
            "Requirement already satisfied: urllib3!=1.25.0,!=1.25.1,<1.26,>=1.21.1 in /usr/local/lib/python3.7/dist-packages (from requests<3,>=2.0.0->wandb) (1.24.3)\n",
            "Requirement already satisfied: chardet<4,>=3.0.2 in /usr/local/lib/python3.7/dist-packages (from requests<3,>=2.0.0->wandb) (3.0.4)\n",
            "Collecting sentry-sdk>=1.0.0\n",
            "  Downloading sentry_sdk-1.9.7-py2.py3-none-any.whl (157 kB)\n",
            "\u001b[K     |████████████████████████████████| 157 kB 74.2 MB/s \n",
            "\u001b[?25h  Downloading sentry_sdk-1.9.6-py2.py3-none-any.whl (157 kB)\n",
            "\u001b[K     |████████████████████████████████| 157 kB 96.7 MB/s \n",
            "\u001b[?25h  Downloading sentry_sdk-1.9.5-py2.py3-none-any.whl (157 kB)\n",
            "\u001b[K     |████████████████████████████████| 157 kB 75.9 MB/s \n",
            "\u001b[?25h  Downloading sentry_sdk-1.9.4-py2.py3-none-any.whl (157 kB)\n",
            "\u001b[K     |████████████████████████████████| 157 kB 91.8 MB/s \n",
            "\u001b[?25h  Downloading sentry_sdk-1.9.3-py2.py3-none-any.whl (157 kB)\n",
            "\u001b[K     |████████████████████████████████| 157 kB 72.3 MB/s \n",
            "\u001b[?25h  Downloading sentry_sdk-1.9.2-py2.py3-none-any.whl (157 kB)\n",
            "\u001b[K     |████████████████████████████████| 157 kB 100.5 MB/s \n",
            "\u001b[?25h  Downloading sentry_sdk-1.9.1-py2.py3-none-any.whl (157 kB)\n",
            "\u001b[K     |████████████████████████████████| 157 kB 79.8 MB/s \n",
            "\u001b[?25h  Downloading sentry_sdk-1.9.0-py2.py3-none-any.whl (156 kB)\n",
            "\u001b[K     |████████████████████████████████| 156 kB 79.3 MB/s \n",
            "\u001b[?25hBuilding wheels for collected packages: efficientnet-pytorch, pathtools\n",
            "  Building wheel for efficientnet-pytorch (setup.py) ... \u001b[?25l\u001b[?25hdone\n",
            "  Created wheel for efficientnet-pytorch: filename=efficientnet_pytorch-0.7.1-py3-none-any.whl size=16446 sha256=ecc77272aa4ae93372eea5dce6cfee263d83a6d82b1b47532ed22a30179acb0e\n",
            "  Stored in directory: /root/.cache/pip/wheels/0e/cc/b2/49e74588263573ff778da58cc99b9c6349b496636a7e165be6\n",
            "  Building wheel for pathtools (setup.py) ... \u001b[?25l\u001b[?25hdone\n",
            "  Created wheel for pathtools: filename=pathtools-0.1.2-py3-none-any.whl size=8806 sha256=3855c58a9ed785b1ab406b36a831e66036ab30d7939cf3156caa30160482e53e\n",
            "  Stored in directory: /root/.cache/pip/wheels/3e/31/09/fa59cef12cdcfecc627b3d24273699f390e71828921b2cbba2\n",
            "Successfully built efficientnet-pytorch pathtools\n",
            "Installing collected packages: smmap, gitdb, snuggs, shortuuid, setproctitle, sentry-sdk, pathtools, GitPython, docker-pycreds, cligj, click-plugins, affine, wandb, rasterio, efficientnet-pytorch\n",
            "Successfully installed GitPython-3.1.27 affine-2.3.1 click-plugins-1.1.1 cligj-0.7.2 docker-pycreds-0.4.0 efficientnet-pytorch-0.7.1 gitdb-4.0.9 pathtools-0.1.2 rasterio-1.2.10 sentry-sdk-1.9.0 setproctitle-1.3.2 shortuuid-1.0.9 smmap-5.0.0 snuggs-1.4.7 wandb-0.13.3\n"
          ]
        }
      ],
      "source": [
        "!pip install rasterio efficientnet_pytorch wandb"
      ]
    },
    {
      "cell_type": "code",
      "execution_count": null,
      "metadata": {
        "id": "4-27DhmabTrr"
      },
      "outputs": [],
      "source": [
        "# !git clone https://github.com/albumentations-team/albumentations.git"
      ]
    },
    {
      "cell_type": "markdown",
      "metadata": {
        "id": "fsYz43n2cTpm"
      },
      "source": [
        "# Wandb login"
      ]
    },
    {
      "cell_type": "code",
      "execution_count": null,
      "metadata": {
        "id": "EX-IKr0Eqod1"
      },
      "outputs": [],
      "source": [
        "import os\n",
        "\n",
        "os.environ[\"WANDB_NOTEBOOK_NAME\"] = \"Efficient_b3_test.ipynb\""
      ]
    },
    {
      "cell_type": "code",
      "execution_count": null,
      "metadata": {
        "colab": {
          "base_uri": "https://localhost:8080/",
          "height": 145
        },
        "id": "EyugWkPucXLV",
        "outputId": "f4d48e2d-5dbb-4152-d9e2-27171b0f92b2"
      },
      "outputs": [
        {
          "output_type": "stream",
          "name": "stderr",
          "text": [
            "\u001b[34m\u001b[1mwandb\u001b[0m: \u001b[33mWARNING\u001b[0m WANDB_NOTEBOOK_NAME should be a path to a notebook file, couldn't find Efficient_b3_test.ipynb.\n"
          ]
        },
        {
          "output_type": "display_data",
          "data": {
            "text/plain": [
              "<IPython.core.display.Javascript object>"
            ],
            "application/javascript": [
              "\n",
              "        window._wandbApiKey = new Promise((resolve, reject) => {\n",
              "            function loadScript(url) {\n",
              "            return new Promise(function(resolve, reject) {\n",
              "                let newScript = document.createElement(\"script\");\n",
              "                newScript.onerror = reject;\n",
              "                newScript.onload = resolve;\n",
              "                document.body.appendChild(newScript);\n",
              "                newScript.src = url;\n",
              "            });\n",
              "            }\n",
              "            loadScript(\"https://cdn.jsdelivr.net/npm/postmate/build/postmate.min.js\").then(() => {\n",
              "            const iframe = document.createElement('iframe')\n",
              "            iframe.style.cssText = \"width:0;height:0;border:none\"\n",
              "            document.body.appendChild(iframe)\n",
              "            const handshake = new Postmate({\n",
              "                container: iframe,\n",
              "                url: 'https://wandb.ai/authorize'\n",
              "            });\n",
              "            const timeout = setTimeout(() => reject(\"Couldn't auto authenticate\"), 5000)\n",
              "            handshake.then(function(child) {\n",
              "                child.on('authorize', data => {\n",
              "                    clearTimeout(timeout)\n",
              "                    resolve(data)\n",
              "                });\n",
              "            });\n",
              "            })\n",
              "        });\n",
              "    "
            ]
          },
          "metadata": {}
        },
        {
          "output_type": "stream",
          "name": "stderr",
          "text": [
            "\u001b[34m\u001b[1mwandb\u001b[0m: Logging into wandb.ai. (Learn how to deploy a W&B server locally: https://wandb.me/wandb-server)\n",
            "\u001b[34m\u001b[1mwandb\u001b[0m: You can find your API key in your browser here: https://wandb.ai/authorize\n",
            "wandb: Paste an API key from your profile and hit enter, or press ctrl+c to quit: "
          ]
        },
        {
          "name": "stdout",
          "output_type": "stream",
          "text": [
            "··········\n"
          ]
        },
        {
          "output_type": "stream",
          "name": "stderr",
          "text": [
            "\u001b[34m\u001b[1mwandb\u001b[0m: Appending key for api.wandb.ai to your netrc file: /root/.netrc\n"
          ]
        },
        {
          "output_type": "execute_result",
          "data": {
            "text/plain": [
              "True"
            ]
          },
          "metadata": {},
          "execution_count": 4
        }
      ],
      "source": [
        "import wandb\n",
        "wandb.login()"
      ]
    },
    {
      "cell_type": "markdown",
      "metadata": {
        "id": "USlOlxKzqod3"
      },
      "source": [
        "# Project Name"
      ]
    },
    {
      "cell_type": "code",
      "execution_count": null,
      "metadata": {
        "colab": {
          "base_uri": "https://localhost:8080/",
          "height": 88
        },
        "id": "RBqafLJzc9Ws",
        "outputId": "796f6aa4-cc71-4ff8-8812-f28b7894afc1"
      },
      "outputs": [
        {
          "output_type": "stream",
          "name": "stderr",
          "text": [
            "\u001b[34m\u001b[1mwandb\u001b[0m: Currently logged in as: \u001b[33mhukkwon\u001b[0m. Use \u001b[1m`wandb login --relogin`\u001b[0m to force relogin\n"
          ]
        },
        {
          "output_type": "display_data",
          "data": {
            "text/plain": [
              "<IPython.core.display.HTML object>"
            ],
            "text/html": [
              "Tracking run with wandb version 0.13.3"
            ]
          },
          "metadata": {}
        },
        {
          "output_type": "display_data",
          "data": {
            "text/plain": [
              "<IPython.core.display.HTML object>"
            ],
            "text/html": [
              "Run data is saved locally in <code>/content/wandb/run-20220912_143440-39e73amw</code>"
            ]
          },
          "metadata": {}
        },
        {
          "output_type": "display_data",
          "data": {
            "text/plain": [
              "<IPython.core.display.HTML object>"
            ],
            "text/html": [
              "Syncing run <strong><a href=\"https://wandb.ai/hukkwon/Efficient_b3/runs/39e73amw\" target=\"_blank\">rural-rain-2</a></strong> to <a href=\"https://wandb.ai/hukkwon/Efficient_b3\" target=\"_blank\">Weights & Biases</a> (<a href=\"https://wandb.me/run\" target=\"_blank\">docs</a>)<br/>"
            ]
          },
          "metadata": {}
        }
      ],
      "source": [
        "from fastai.callback.wandb import *\n",
        "\n",
        "# start logging a wandb run\n",
        "wandb.init(project='Efficient_b3')\n",
        "wandb.run.name = 'origin_768_monitor_DiceTH_tfms(p=1.0)'"
      ]
    },
    {
      "cell_type": "markdown",
      "metadata": {
        "id": "Oj6ydp4tNpoH"
      },
      "source": [
        "# Load Dataset"
      ]
    },
    {
      "cell_type": "code",
      "execution_count": null,
      "metadata": {
        "id": "PaD4GHedqod4"
      },
      "outputs": [],
      "source": [
        "# ## dataset ids\n",
        "# 1TR148ijIX14wQd1gqbwlH22aNsDKs7VN # conv_origin_768_r2_binary_dataset\n",
        "# 1-NLrY-QEuF_VEBTMerK-K8VjWxJ-Xiac # conv_origin_768_r1_binary_dataset\n",
        "# 1-KPxOC-9yvG9IYf9C3zsRMS8aZ2xeSl5 # conv_origin_512_r2_binary_dataset\n",
        "# 1-EgqXvM6qZ8ZR8AzfKWrX0VvWSswU5yI # conv_origin_512_r1_binary_dataset\n",
        "# 1-CC95xAHijLAybbXzNg-W7QQgARBcdex # conv_2048crop_768_r1_binary_dataset\n",
        "# 1-BiE2_nr6nWFqa6tr6EguEw2UETS6PuU # conv_2048crop_512_r2_binary_dataset\n",
        "# 1-8-PVIUxsqeXgGrnrcSbSMUOmvL7NJWs # conv_2048crop_512_r1_binary_dataset"
      ]
    },
    {
      "cell_type": "code",
      "execution_count": null,
      "metadata": {
        "id": "40OUsC2FNo7K"
      },
      "outputs": [],
      "source": [
        "# dataset\n",
        "!gdown 1TR148ijIX14wQd1gqbwlH22aNsDKs7VN\n",
        "!unzip ./conv_origin_768_r2_binary_dataset.zip"
      ]
    },
    {
      "cell_type": "code",
      "execution_count": null,
      "metadata": {
        "colab": {
          "base_uri": "https://localhost:8080/"
        },
        "id": "jF7rODpLOFx6",
        "outputId": "46359cad-7539-437b-b37c-60d9290cd8a5"
      },
      "outputs": [
        {
          "output_type": "stream",
          "name": "stdout",
          "text": [
            "Downloading...\n",
            "From: https://drive.google.com/uc?id=1CYzwew45Tuzs1w0oNbraDT4F8RoMlq1O\n",
            "To: /content/train.csv\n",
            "\r  0% 0.00/16.4M [00:00<?, ?B/s]\r 93% 15.2M/16.4M [00:00<00:00, 151MB/s]\r100% 16.4M/16.4M [00:00<00:00, 159MB/s]\n"
          ]
        }
      ],
      "source": [
        "# train csv\n",
        "!gdown 1CYzwew45Tuzs1w0oNbraDT4F8RoMlq1O"
      ]
    },
    {
      "cell_type": "code",
      "execution_count": null,
      "metadata": {
        "colab": {
          "base_uri": "https://localhost:8080/"
        },
        "id": "Ubd_vAGyOxu2",
        "outputId": "691e8a71-c781-4b38-8521-93ca5988ba5f"
      },
      "outputs": [
        {
          "output_type": "stream",
          "name": "stdout",
          "text": [
            "Downloading...\n",
            "From: https://drive.google.com/uc?id=1Sn2pPVCUz2dpzHB935ai-CU9UmTZDyxp\n",
            "To: /content/encoder.zip\n",
            "100% 720M/720M [00:07<00:00, 103MB/s]\n",
            "Archive:  ./encoder.zip\n",
            "  inflating: ./encoder/efficientnet-b0-08094119.pth  \n",
            "  inflating: ./encoder/efficientnet-b1-dbc7070a.pth  \n",
            "  inflating: ./encoder/efficientnet-b2-27687264.pth  \n",
            "  inflating: ./encoder/efficientnet-b3-c8376fa2.pth  \n",
            "  inflating: ./encoder/efficientnet-b4-e116e8b3.pth  \n",
            "  inflating: ./encoder/efficientnet-b5-586e6cc6.pth  \n",
            "  inflating: ./encoder/efficientnet-b6-c76e70fd.pth  \n",
            "  inflating: ./encoder/efficientnet-b7-dcc49843.pth  \n"
          ]
        }
      ],
      "source": [
        "# b0 ~ b7\n",
        "!gdown 1Sn2pPVCUz2dpzHB935ai-CU9UmTZDyxp\n",
        "!unzip ./encoder.zip -d ./encoder"
      ]
    },
    {
      "cell_type": "markdown",
      "metadata": {
        "id": "7r6EnfywNUzw"
      },
      "source": [
        "# Import"
      ]
    },
    {
      "cell_type": "code",
      "execution_count": null,
      "metadata": {
        "_cell_guid": "b1076dfc-b9ad-4769-8c92-a6c4dae69d19",
        "_kg_hide-input": true,
        "_uuid": "8f2839f25d086af736a60e9eeb907d3b93b6e0e5",
        "execution": {
          "iopub.execute_input": "2022-07-11T10:53:34.269268Z",
          "iopub.status.busy": "2022-07-11T10:53:34.261470Z",
          "iopub.status.idle": "2022-07-11T10:53:37.513442Z",
          "shell.execute_reply": "2022-07-11T10:53:37.512849Z",
          "shell.execute_reply.started": "2022-07-11T10:52:12.245706Z"
        },
        "id": "QRjqKvvFLBcV",
        "papermill": {
          "duration": 3.273853,
          "end_time": "2022-07-11T10:53:37.513569",
          "exception": false,
          "start_time": "2022-07-11T10:53:34.239716",
          "status": "completed"
        },
        "tags": []
      },
      "outputs": [],
      "source": [
        "%reload_ext autoreload\n",
        "%autoreload 2\n",
        "%matplotlib inline\n",
        "\n",
        "from fastai.vision.all import *\n",
        "from torch.utils.data import Dataset, DataLoader\n",
        "import pandas as pd\n",
        "import numpy as np\n",
        "import os\n",
        "import cv2\n",
        "import gc\n",
        "import random\n",
        "from albumentations import *\n",
        "from sklearn.model_selection import KFold\n",
        "import matplotlib.pyplot as plt\n",
        "from lovasz import lovasz_hinge\n",
        "import rasterio\n",
        "from rasterio.windows import Window\n",
        "from tqdm.notebook import tqdm\n",
        "\n",
        "from PIL import Image\n",
        "import tifffile as tiff\n",
        "\n",
        "import warnings\n",
        "warnings.filterwarnings(\"ignore\")"
      ]
    },
    {
      "cell_type": "markdown",
      "metadata": {
        "id": "dkZIvLJvqod7"
      },
      "source": [
        "# Parameter & Etc.."
      ]
    },
    {
      "cell_type": "code",
      "execution_count": null,
      "metadata": {
        "execution": {
          "iopub.execute_input": "2022-07-11T10:53:37.547261Z",
          "iopub.status.busy": "2022-07-11T10:53:37.546418Z",
          "iopub.status.idle": "2022-07-11T10:53:37.578319Z",
          "shell.execute_reply": "2022-07-11T10:53:37.578719Z",
          "shell.execute_reply.started": "2022-07-11T10:52:12.330346Z"
        },
        "id": "5-AdR0C2LBcW",
        "papermill": {
          "duration": 0.049315,
          "end_time": "2022-07-11T10:53:37.578835",
          "exception": false,
          "start_time": "2022-07-11T10:53:37.529520",
          "status": "completed"
        },
        "tags": []
      },
      "outputs": [],
      "source": [
        "dataset_name = 'conv_origin_768_r2_binary'\n",
        "head_epochs = 5\n",
        "full_epochs = 50\n",
        "lr_max = 0.5e-2\n",
        "lr_slice = slice(2e-4,2e-3)\n",
        "bs = 4\n",
        "nfolds = 4\n",
        "fold = 0\n",
        "SEED = 2020\n",
        "TRAIN = '/content/conv_768_r2_dataset/images/'\n",
        "MASKS = '/content/conv_768_r2_dataset/masks/'\n",
        "LABELS = './train.csv'\n",
        "NUM_WORKERS = 4\n",
        "mean = np.array([0.78054955,  0.7566257, 0.7735184]) \n",
        "std = np.array([0.25334089, 0.26656769, 0.26202731])"
      ]
    },
    {
      "cell_type": "code",
      "execution_count": null,
      "metadata": {
        "_kg_hide-input": true,
        "execution": {
          "iopub.execute_input": "2022-07-11T10:53:37.629067Z",
          "iopub.status.busy": "2022-07-11T10:53:37.628259Z",
          "iopub.status.idle": "2022-07-11T10:53:37.675797Z",
          "shell.execute_reply": "2022-07-11T10:53:37.675366Z",
          "shell.execute_reply.started": "2022-07-11T10:52:12.393380Z"
        },
        "id": "qC9W2Wt8LBcX",
        "papermill": {
          "duration": 0.079778,
          "end_time": "2022-07-11T10:53:37.675896",
          "exception": false,
          "start_time": "2022-07-11T10:53:37.596118",
          "status": "completed"
        },
        "tags": []
      },
      "outputs": [],
      "source": [
        "def seed_everything(seed):\n",
        "    random.seed(seed)\n",
        "    os.environ['PYTHONHASHSEED'] = str(seed)\n",
        "    np.random.seed(seed)\n",
        "    torch.manual_seed(seed)\n",
        "    torch.cuda.manual_seed(seed)\n",
        "    torch.backends.cudnn.deterministic = True\n",
        "    #the following line gives ~10% speedup\n",
        "    #but may lead to some stochasticity in the results \n",
        "    torch.backends.cudnn.benchmark = True\n",
        "    \n",
        "seed_everything(SEED)"
      ]
    },
    {
      "cell_type": "markdown",
      "metadata": {
        "id": "9l6zCEthNc4_"
      },
      "source": [
        "# Data preprocessing"
      ]
    },
    {
      "cell_type": "code",
      "execution_count": null,
      "metadata": {
        "execution": {
          "iopub.execute_input": "2022-07-11T10:53:37.745829Z",
          "iopub.status.busy": "2022-07-11T10:53:37.745009Z",
          "iopub.status.idle": "2022-07-11T10:53:37.796248Z",
          "shell.execute_reply": "2022-07-11T10:53:37.795545Z",
          "shell.execute_reply.started": "2022-07-11T10:52:12.458964Z"
        },
        "id": "iIysNh_2LBcY",
        "papermill": {
          "duration": 0.079163,
          "end_time": "2022-07-11T10:53:37.796393",
          "exception": false,
          "start_time": "2022-07-11T10:53:37.717230",
          "status": "completed"
        },
        "tags": []
      },
      "outputs": [],
      "source": [
        "# # https://www.kaggle.com/iafoss/256x256-images\n",
        "# mean = np.array([0.65459856,0.48386562,0.69428385])\n",
        "# std = np.array([0.15167958,0.23584107,0.13146145])\n",
        "\n",
        "\n",
        "# https://www.kaggle.com/datasets/thedevastator/hubmap-2022-256x256\n",
        "# mean = mean\n",
        "# std = std\n",
        "\n",
        "def img2tensor(img,dtype:np.dtype=np.float32):\n",
        "    if img.ndim==2 : img = np.expand_dims(img,2)\n",
        "    img = np.transpose(img,(2,0,1))\n",
        "    return torch.from_numpy(img.astype(dtype, copy=False))\n",
        "\n",
        "\n",
        "\n",
        "class HuBMAPDataset(Dataset):\n",
        "    def __init__(self, fold=fold, train=True, tfms=None):\n",
        "        ids = pd.read_csv(LABELS).id.astype(str).values\n",
        "        kf = KFold(n_splits=nfolds,random_state=SEED,shuffle=True)\n",
        "        ids = set(ids[list(kf.split(ids))[fold][0 if train else 1]])\n",
        "        self.fnames = [fname for fname in os.listdir(TRAIN) if fname.split('_')[0] in ids]\n",
        "        self.train = train\n",
        "        self.tfms = tfms\n",
        "        \n",
        "    def __len__(self):\n",
        "        return len(self.fnames)\n",
        "    \n",
        "    def __getitem__(self, idx):\n",
        "        fname = self.fnames[idx]\n",
        "        img = cv2.cvtColor(cv2.imread(os.path.join(TRAIN,fname)), cv2.COLOR_BGR2RGB)\n",
        "        mask = cv2.imread(os.path.join(MASKS,fname),cv2.IMREAD_GRAYSCALE)\n",
        "        if self.tfms is not None:\n",
        "            augmented = self.tfms(image=img,mask=mask)\n",
        "            img,mask = augmented['image'],augmented['mask']\n",
        "        return img2tensor((img/255.0 - mean)/std),img2tensor(mask)\n",
        "    \n",
        "# def get_aug(p=1.0):\n",
        "#     return Compose([\n",
        "#         HorizontalFlip(),\n",
        "#         VerticalFlip(),\n",
        "#         RandomRotate90(),\n",
        "#         ShiftScaleRotate(shift_limit=0.0625, scale_limit=0.2, rotate_limit=15, p=0.9, \n",
        "#                          border_mode=cv2.BORDER_REFLECT),\n",
        "#         OneOf([\n",
        "#             OpticalDistortion(p=0.3),\n",
        "#             GridDistortion(p=.1),\n",
        "#             IAAPiecewiseAffine(p=0.3),\n",
        "#         ], p=0.3),\n",
        "#         OneOf([\n",
        "#             HueSaturationValue(10,15,10),\n",
        "#             CLAHE(clip_limit=2),\n",
        "#             RandomBrightnessContrast(),            \n",
        "#         ], p=0.3),\n",
        "#     ], p=p)\n",
        "\n",
        "# version 1 0.65 version\n",
        "def get_aug(p=1.0):\n",
        "    return Compose([\n",
        "        HorizontalFlip(p=0.5),\n",
        "        VerticalFlip(),\n",
        "        RandomRotate90(p=1),\n",
        "        #Morphology\n",
        "        ShiftScaleRotate(shift_limit=0, scale_limit=(-0.2,0.2), rotate_limit=(-30,30), \n",
        "                         interpolation=1, border_mode=0, value=(0,0,0), p=0.5),\n",
        "        GaussNoise(var_limit=(0,50.0), mean=0, p=0.5),\n",
        "        GaussianBlur(blur_limit=(3,7), p=0.5),\n",
        "        #Color\n",
        "        RandomBrightnessContrast(brightness_limit=0.35, contrast_limit=0.5, \n",
        "                                 brightness_by_max=True,p=0.5),\n",
        "        HueSaturationValue(hue_shift_limit=30, sat_shift_limit=30, \n",
        "                           val_shift_limit=0, p=0.5),\n",
        "        OneOf([\n",
        "            OpticalDistortion(p=0.3),\n",
        "            GridDistortion(p=.1),\n",
        "            IAAPiecewiseAffine(p=0.3),\n",
        "        ], p=0.3),\n",
        "    ], p=p)"
      ]
    },
    {
      "cell_type": "code",
      "execution_count": null,
      "metadata": {
        "execution": {
          "iopub.execute_input": "2022-07-11T10:53:37.843790Z",
          "iopub.status.busy": "2022-07-11T10:53:37.842799Z",
          "iopub.status.idle": "2022-07-11T10:53:50.138757Z",
          "shell.execute_reply": "2022-07-11T10:53:50.139191Z",
          "shell.execute_reply.started": "2022-07-11T10:52:12.538019Z"
        },
        "id": "ZxUb1IdmLBcZ",
        "papermill": {
          "duration": 12.318961,
          "end_time": "2022-07-11T10:53:50.139316",
          "exception": false,
          "start_time": "2022-07-11T10:53:37.820355",
          "status": "completed"
        },
        "tags": [],
        "cellView": "form"
      },
      "outputs": [],
      "source": [
        "#@title\n",
        "# #example of train images with masks\n",
        "# ds = HuBMAPDataset(tfms=get_aug())\n",
        "# dl = DataLoader(ds,batch_size=64,shuffle=False,num_workers=NUM_WORKERS)\n",
        "# imgs,masks = next(iter(dl))\n",
        "\n",
        "# plt.figure(figsize=(16,16))\n",
        "# for i,(img,mask) in enumerate(zip(imgs,masks)):\n",
        "#     img = ((img.permute(1,2,0)*std + mean)*255.0).numpy().astype(np.uint8)\n",
        "#     plt.subplot(8,8,i+1)\n",
        "#     plt.imshow(img,vmin=0,vmax=255)\n",
        "#     plt.imshow(mask.squeeze().numpy(), alpha=0.2)\n",
        "#     plt.axis('off')\n",
        "#     plt.subplots_adjust(wspace=None, hspace=None)\n",
        "    \n",
        "# del ds,dl,imgs,masks"
      ]
    },
    {
      "cell_type": "markdown",
      "metadata": {
        "id": "jiL6bphZOPrS"
      },
      "source": [
        "# Model - EfficientUnet"
      ]
    },
    {
      "cell_type": "code",
      "execution_count": null,
      "metadata": {
        "_kg_hide-input": true,
        "execution": {
          "iopub.execute_input": "2022-07-11T10:53:50.369406Z",
          "iopub.status.busy": "2022-07-11T10:53:50.368449Z",
          "iopub.status.idle": "2022-07-11T10:53:50.415034Z",
          "shell.execute_reply": "2022-07-11T10:53:50.414364Z",
          "shell.execute_reply.started": "2022-07-11T10:52:24.692974Z"
        },
        "id": "cp-3ExlkLBcb",
        "papermill": {
          "duration": 0.105333,
          "end_time": "2022-07-11T10:53:50.415133",
          "exception": false,
          "start_time": "2022-07-11T10:53:50.309800",
          "status": "completed"
        },
        "tags": []
      },
      "outputs": [],
      "source": [
        "class FPN(nn.Module):\n",
        "    def __init__(self, input_channels:list, output_channels:list):\n",
        "        super().__init__()\n",
        "        self.convs = nn.ModuleList(\n",
        "            [nn.Sequential(nn.Conv2d(in_ch, out_ch*2, kernel_size=3, padding=1),\n",
        "             nn.ReLU(inplace=True), nn.BatchNorm2d(out_ch*2),\n",
        "             nn.Conv2d(out_ch*2, out_ch, kernel_size=3, padding=1))\n",
        "            for in_ch, out_ch in zip(input_channels, output_channels)])\n",
        "        \n",
        "    def forward(self, xs:list, last_layer):\n",
        "        hcs = [F.interpolate(c(x),scale_factor=2**(len(self.convs)-i),mode='bilinear') \n",
        "               for i,(c,x) in enumerate(zip(self.convs, xs))]\n",
        "        hcs.append(last_layer)\n",
        "        return torch.cat(hcs, dim=1)\n",
        "\n",
        "class UnetBlock(Module):\n",
        "    def __init__(self, up_in_c:int, x_in_c:int, nf:int=None, blur:bool=False,\n",
        "                 self_attention:bool=False, **kwargs):\n",
        "        super().__init__()\n",
        "        self.shuf = PixelShuffle_ICNR(up_in_c, up_in_c//2, blur=blur, **kwargs)\n",
        "        self.bn = nn.BatchNorm2d(x_in_c)\n",
        "        ni = up_in_c//2 + x_in_c\n",
        "        nf = nf if nf is not None else max(up_in_c//2,32)\n",
        "        self.conv1 = ConvLayer(ni, nf, norm_type=None, **kwargs)\n",
        "        self.conv2 = ConvLayer(nf, nf, norm_type=None,\n",
        "            xtra=SelfAttention(nf) if self_attention else None, **kwargs)\n",
        "        self.relu = nn.ReLU(inplace=True)\n",
        "\n",
        "    def forward(self, up_in:Tensor, left_in:Tensor) -> Tensor:\n",
        "        s = left_in\n",
        "        up_out = self.shuf(up_in)\n",
        "        cat_x = self.relu(torch.cat([up_out, self.bn(s)], dim=1))\n",
        "        return self.conv2(self.conv1(cat_x))\n",
        "        \n",
        "class _ASPPModule(nn.Module):\n",
        "    def __init__(self, inplanes, planes, kernel_size, padding, dilation, groups=1):\n",
        "        super().__init__()\n",
        "        self.atrous_conv = nn.Conv2d(inplanes, planes, kernel_size=kernel_size,\n",
        "                stride=1, padding=padding, dilation=dilation, bias=False, groups=groups)\n",
        "        self.bn = nn.BatchNorm2d(planes)\n",
        "        self.relu = nn.ReLU()\n",
        "\n",
        "        self._init_weight()\n",
        "\n",
        "    def forward(self, x):\n",
        "        x = self.atrous_conv(x)\n",
        "        x = self.bn(x)\n",
        "\n",
        "        return self.relu(x)\n",
        "\n",
        "    def _init_weight(self):\n",
        "        for m in self.modules():\n",
        "            if isinstance(m, nn.Conv2d):\n",
        "                torch.nn.init.kaiming_normal_(m.weight)\n",
        "            elif isinstance(m, nn.BatchNorm2d):\n",
        "                m.weight.data.fill_(1)\n",
        "                m.bias.data.zero_()\n",
        "\n",
        "class ASPP(nn.Module):\n",
        "    def __init__(self, inplanes=512, mid_c=256, dilations=[6, 12, 18, 24], out_c=None):\n",
        "        super().__init__()\n",
        "        self.aspps = [_ASPPModule(inplanes, mid_c, 1, padding=0, dilation=1)] + \\\n",
        "            [_ASPPModule(inplanes, mid_c, 3, padding=d, dilation=d,groups=4) for d in dilations]\n",
        "        self.aspps = nn.ModuleList(self.aspps)\n",
        "        self.global_pool = nn.Sequential(nn.AdaptiveMaxPool2d((1, 1)),\n",
        "                        nn.Conv2d(inplanes, mid_c, 1, stride=1, bias=False),\n",
        "                        nn.BatchNorm2d(mid_c), nn.ReLU())\n",
        "        out_c = out_c if out_c is not None else mid_c\n",
        "        self.out_conv = nn.Sequential(nn.Conv2d(mid_c*(2+len(dilations)), out_c, 1, bias=False),\n",
        "                                    nn.BatchNorm2d(out_c), nn.ReLU(inplace=True))\n",
        "        self.conv1 = nn.Conv2d(mid_c*(2+len(dilations)), out_c, 1, bias=False)\n",
        "        self._init_weight()\n",
        "\n",
        "    def forward(self, x):\n",
        "        x0 = self.global_pool(x)\n",
        "        xs = [aspp(x) for aspp in self.aspps]\n",
        "        x0 = F.interpolate(x0, size=xs[0].size()[2:], mode='bilinear', align_corners=True)\n",
        "        x = torch.cat([x0] + xs, dim=1)\n",
        "        return self.out_conv(x)\n",
        "    \n",
        "    def _init_weight(self):\n",
        "        for m in self.modules():\n",
        "            if isinstance(m, nn.Conv2d):\n",
        "                torch.nn.init.kaiming_normal_(m.weight)\n",
        "            elif isinstance(m, nn.BatchNorm2d):\n",
        "                m.weight.data.fill_(1)\n",
        "                m.bias.data.zero_()"
      ]
    },
    {
      "cell_type": "code",
      "execution_count": null,
      "metadata": {
        "execution": {
          "iopub.execute_input": "2022-07-11T10:53:50.491508Z",
          "iopub.status.busy": "2022-07-11T10:53:50.490243Z",
          "iopub.status.idle": "2022-07-11T10:53:50.526354Z",
          "shell.execute_reply": "2022-07-11T10:53:50.525905Z",
          "shell.execute_reply.started": "2022-07-11T10:52:24.801131Z"
        },
        "id": "kzh0PIWqLBcb",
        "papermill": {
          "duration": 0.077848,
          "end_time": "2022-07-11T10:53:50.526456",
          "exception": false,
          "start_time": "2022-07-11T10:53:50.448608",
          "status": "completed"
        },
        "tags": []
      },
      "outputs": [],
      "source": [
        "pretrained_root = './encoder/'\n",
        "efficient_net_encoders = {\n",
        "    \"efficientnet-b0\": {\n",
        "        \"out_channels\": (3, 32, 24, 40, 112, 320),\n",
        "        \"stage_idxs\": (3, 5, 9, 16),\n",
        "        \"weight_path\": pretrained_root + \"efficientnet-b0-08094119.pth\"\n",
        "    },\n",
        "    \"efficientnet-b1\": {\n",
        "        \"out_channels\": (3, 32, 24, 40, 112, 320),\n",
        "        \"stage_idxs\": (5, 8, 16, 23),\n",
        "        \"weight_path\": pretrained_root + \"efficientnet-b1-dbc7070a.pth\"\n",
        "    },\n",
        "    \"efficientnet-b2\": {\n",
        "        \"out_channels\": (3, 32, 24, 48, 120, 352),\n",
        "        \"stage_idxs\": (5, 8, 16, 23),\n",
        "        \"weight_path\": pretrained_root + \"efficientnet-b2-27687264.pth\"\n",
        "    },\n",
        "    \"efficientnet-b3\": {\n",
        "        \"out_channels\": (3, 40, 32, 48, 136, 384),\n",
        "        \"stage_idxs\": (5, 8, 18, 26),\n",
        "        \"weight_path\": pretrained_root + \"efficientnet-b3-c8376fa2.pth\"\n",
        "    },\n",
        "    \"efficientnet-b4\": {\n",
        "        \"out_channels\": (3, 48, 32, 56, 160, 448),\n",
        "        \"stage_idxs\": (6, 10, 22, 32),\n",
        "        \"weight_path\": pretrained_root + \"efficientnet-b4-e116e8b3.pth\"\n",
        "    },\n",
        "    \"efficientnet-b5\": {\n",
        "        \"out_channels\": (3, 48, 40, 64, 176, 512),\n",
        "        \"stage_idxs\": (8, 13, 27, 39),\n",
        "        \"weight_path\": pretrained_root + \"efficientnet-b5-586e6cc6.pth\"\n",
        "    },\n",
        "    \"efficientnet-b6\": {\n",
        "        \"out_channels\": (3, 56, 40, 72, 200, 576),\n",
        "        \"stage_idxs\": (9, 15, 31, 45),\n",
        "        \"weight_path\": pretrained_root + \"efficientnet-b6-c76e70fd.pth\"\n",
        "    },\n",
        "    \"efficientnet-b7\": {\n",
        "        \"out_channels\": (3, 64, 48, 80, 224, 640),\n",
        "        \"stage_idxs\": (11, 18, 38, 55),\n",
        "        \"weight_path\": pretrained_root + \"efficientnet-b7-dcc49843.pth\"\n",
        "    }\n",
        "}"
      ]
    },
    {
      "cell_type": "code",
      "execution_count": null,
      "metadata": {
        "execution": {
          "iopub.execute_input": "2022-07-11T10:53:50.608110Z",
          "iopub.status.busy": "2022-07-11T10:53:50.607142Z",
          "iopub.status.idle": "2022-07-11T10:53:50.730609Z",
          "shell.execute_reply": "2022-07-11T10:53:50.731660Z",
          "shell.execute_reply.started": "2022-07-11T10:52:24.877521Z"
        },
        "id": "Tjd_aRsxLBcc",
        "papermill": {
          "duration": 0.17098,
          "end_time": "2022-07-11T10:53:50.731835",
          "exception": false,
          "start_time": "2022-07-11T10:53:50.560855",
          "status": "completed"
        },
        "tags": []
      },
      "outputs": [],
      "source": [
        "import sys\n",
        "# sys.path.insert(0, '../input/efficientnet-pytorch/EfficientNet-PyTorch/EfficientNet-PyTorch-master')\n",
        "\n",
        "from efficientnet_pytorch import EfficientNet\n",
        "from efficientnet_pytorch.utils import url_map, url_map_advprop, get_model_params\n",
        "\n",
        "\n",
        "class EfficientNetEncoder(EfficientNet):\n",
        "    def __init__(self, stage_idxs, out_channels, model_name, depth=5):\n",
        "\n",
        "        blocks_args, global_params = get_model_params(model_name, override_params=None)\n",
        "        super().__init__(blocks_args, global_params)\n",
        "        \n",
        "        cfg = efficient_net_encoders[model_name]\n",
        "\n",
        "        self._stage_idxs = stage_idxs\n",
        "        self._out_channels = out_channels\n",
        "        self._depth = depth\n",
        "        self._in_channels = 3\n",
        "\n",
        "        del self._fc\n",
        "        self.load_state_dict(torch.load(cfg['weight_path']))\n",
        "\n",
        "    def get_stages(self):\n",
        "        return [\n",
        "            nn.Identity(),\n",
        "            nn.Sequential(self._conv_stem, self._bn0, self._swish),\n",
        "            self._blocks[:self._stage_idxs[0]],\n",
        "            self._blocks[self._stage_idxs[0]:self._stage_idxs[1]],\n",
        "            self._blocks[self._stage_idxs[1]:self._stage_idxs[2]],\n",
        "            self._blocks[self._stage_idxs[2]:],\n",
        "        ]\n",
        "\n",
        "    def forward(self, x):\n",
        "        stages = self.get_stages()\n",
        "\n",
        "        block_number = 0.\n",
        "        drop_connect_rate = self._global_params.drop_connect_rate\n",
        "\n",
        "        features = []\n",
        "        for i in range(self._depth + 1):\n",
        "\n",
        "            # Identity and Sequential stages\n",
        "            if i < 2:\n",
        "                x = stages[i](x)\n",
        "\n",
        "            # Block stages need drop_connect rate\n",
        "            else:\n",
        "                for module in stages[i]:\n",
        "                    drop_connect = drop_connect_rate * block_number / len(self._blocks)\n",
        "                    block_number += 1.\n",
        "                    x = module(x, drop_connect)\n",
        "\n",
        "            features.append(x)\n",
        "\n",
        "        return features\n",
        "\n",
        "    def load_state_dict(self, state_dict, **kwargs):\n",
        "        state_dict.pop(\"_fc.bias\")\n",
        "        state_dict.pop(\"_fc.weight\")\n",
        "        super().load_state_dict(state_dict, **kwargs)  \n",
        "        \n",
        "\n",
        "class EffUnet(nn.Module):\n",
        "    def __init__(self, model_name, stride=1):\n",
        "        super().__init__()\n",
        "        \n",
        "        cfg = efficient_net_encoders[model_name]\n",
        "        stage_idxs = cfg['stage_idxs']\n",
        "        out_channels = cfg['out_channels']\n",
        "        \n",
        "        self.encoder = EfficientNetEncoder(stage_idxs, out_channels, model_name)\n",
        "\n",
        "        #aspp with customized dilatations\n",
        "        self.aspp = ASPP(out_channels[-1], 256, out_c=384, \n",
        "                         dilations=[stride*1, stride*2, stride*3, stride*4])\n",
        "        # self.drop_aspp = nn.Dropout2d(0.5)\n",
        "        #decoder\n",
        "        self.dec4 = UnetBlock(384, out_channels[-2], 256)\n",
        "        self.dec3 = UnetBlock(256, out_channels[-3], 128)\n",
        "        self.dec2 = UnetBlock(128, out_channels[-4], 64)\n",
        "        self.dec1 = UnetBlock(64, out_channels[-5], 32)\n",
        "        self.fpn = FPN([384, 256, 128, 64], [16]*4)\n",
        "        # self.drop = nn.Dropout2d(0.1)\n",
        "        self.final_conv = ConvLayer(32+16*4, 1, ks=1, norm_type=None, act_cls=None)\n",
        "        \n",
        "    def forward(self, x):\n",
        "        enc0, enc1, enc2, enc3, enc4 = self.encoder(x)[-5:]\n",
        "        enc5 = self.aspp(enc4)\n",
        "        # dec3 = self.dec4(self.drop_aspp(enc5), enc3)\n",
        "        dec3 = self.dec4(enc5, enc3)\n",
        "        dec2 = self.dec3(dec3,enc2)\n",
        "        dec1 = self.dec2(dec2,enc1)\n",
        "        dec0 = self.dec1(dec1,enc0)\n",
        "        x = self.fpn([enc5, dec3, dec2, dec1], dec0)\n",
        "        # x = self.final_conv(self.drop(x))\n",
        "        x = self.final_conv(x)\n",
        "        x = F.interpolate(x,scale_factor=2,mode='bilinear')\n",
        "        return x\n",
        "    \n",
        "#split the model to encoder and decoder for fast.ai\n",
        "split_layers = lambda m: [\n",
        "                list(m.encoder.parameters()),\n",
        "                list(m.aspp.parameters())+list(m.dec4.parameters())+\n",
        "                list(m.dec3.parameters())+list(m.dec2.parameters())+\n",
        "                list(m.dec1.parameters())+list(m.fpn.parameters())+\n",
        "                list(m.final_conv.parameters())\n",
        "            ]"
      ]
    },
    {
      "cell_type": "markdown",
      "metadata": {
        "id": "j3UHaDk9S-hg"
      },
      "source": [
        "# Loss & Metrics"
      ]
    },
    {
      "cell_type": "code",
      "execution_count": null,
      "metadata": {
        "execution": {
          "iopub.execute_input": "2022-07-11T10:53:50.979241Z",
          "iopub.status.busy": "2022-07-11T10:53:50.978427Z",
          "iopub.status.idle": "2022-07-11T10:53:51.026952Z",
          "shell.execute_reply": "2022-07-11T10:53:51.027537Z",
          "shell.execute_reply.started": "2022-07-11T10:52:25.018496Z"
        },
        "id": "zSYdhs5fLBcd",
        "papermill": {
          "duration": 0.114857,
          "end_time": "2022-07-11T10:53:51.027666",
          "exception": false,
          "start_time": "2022-07-11T10:53:50.912809",
          "status": "completed"
        },
        "tags": []
      },
      "outputs": [],
      "source": [
        "def symmetric_lovasz(outputs, targets):\n",
        "    return 0.5*(lovasz_hinge(outputs, targets) + lovasz_hinge(-outputs, 1.0 - targets))"
      ]
    },
    {
      "cell_type": "code",
      "execution_count": null,
      "metadata": {
        "execution": {
          "iopub.execute_input": "2022-07-11T10:53:51.161355Z",
          "iopub.status.busy": "2022-07-11T10:53:51.160548Z",
          "iopub.status.idle": "2022-07-11T10:53:51.210238Z",
          "shell.execute_reply": "2022-07-11T10:53:51.209302Z",
          "shell.execute_reply.started": "2022-07-11T10:52:25.084459Z"
        },
        "id": "zgfyZp37LBcd",
        "papermill": {
          "duration": 0.121904,
          "end_time": "2022-07-11T10:53:51.210349",
          "exception": false,
          "start_time": "2022-07-11T10:53:51.088445",
          "status": "completed"
        },
        "tags": []
      },
      "outputs": [],
      "source": [
        "class Dice_soft(Metric):\n",
        "    def __init__(self, axis=1): \n",
        "        self.axis = axis \n",
        "    def reset(self): self.inter,self.union = 0,0\n",
        "    def accumulate(self, learn):\n",
        "        pred,targ = flatten_check(torch.sigmoid(learn.pred), learn.y)\n",
        "        self.inter += (pred*targ).float().sum().item()\n",
        "        self.union += (pred+targ).float().sum().item()\n",
        "    @property\n",
        "    def value(self): return 2.0 * self.inter/self.union if self.union > 0 else None\n",
        "    \n",
        "# dice with automatic threshold selection\n",
        "class Dice_th(Metric):\n",
        "    def __init__(self, ths=np.arange(0.1,0.9,0.05), axis=1): \n",
        "        self.axis = axis\n",
        "        self.ths = ths\n",
        "        \n",
        "    def reset(self): \n",
        "        self.inter = torch.zeros(len(self.ths))\n",
        "        self.union = torch.zeros(len(self.ths))\n",
        "        \n",
        "    def accumulate(self, learn):\n",
        "        pred,targ = flatten_check(torch.sigmoid(learn.pred), learn.y)\n",
        "        for i,th in enumerate(self.ths):\n",
        "            p = (pred > th).float()\n",
        "            self.inter[i] += (p*targ).float().sum().item()\n",
        "            self.union[i] += (p+targ).float().sum().item()\n",
        "\n",
        "    @property\n",
        "    def value(self):\n",
        "        dices = torch.where(self.union > 0.0, \n",
        "                2.0*self.inter/self.union, torch.zeros_like(self.union))\n",
        "        return dices.max()"
      ]
    },
    {
      "cell_type": "markdown",
      "metadata": {
        "id": "i2TbdCU2LBcd",
        "papermill": {
          "duration": 0.034181,
          "end_time": "2022-07-11T10:53:51.279426",
          "exception": false,
          "start_time": "2022-07-11T10:53:51.245245",
          "status": "completed"
        },
        "tags": []
      },
      "source": [
        "# Model evaluation"
      ]
    },
    {
      "cell_type": "code",
      "execution_count": null,
      "metadata": {
        "execution": {
          "iopub.execute_input": "2022-07-11T10:53:51.365330Z",
          "iopub.status.busy": "2022-07-11T10:53:51.364489Z",
          "iopub.status.idle": "2022-07-11T10:53:51.404680Z",
          "shell.execute_reply": "2022-07-11T10:53:51.404174Z",
          "shell.execute_reply.started": "2022-07-11T10:52:25.155738Z"
        },
        "id": "wuF7hyuXLBcd",
        "papermill": {
          "duration": 0.091738,
          "end_time": "2022-07-11T10:53:51.404778",
          "exception": false,
          "start_time": "2022-07-11T10:53:51.313040",
          "status": "completed"
        },
        "tags": []
      },
      "outputs": [],
      "source": [
        "#iterator like wrapper that returns predicted and gt masks\n",
        "class Model_pred:\n",
        "    def __init__(self, model, dl, tta:bool=True, half:bool=False):\n",
        "        self.model = model\n",
        "        self.dl = dl\n",
        "        self.tta = tta\n",
        "        self.half = half\n",
        "        \n",
        "    def __iter__(self):\n",
        "        self.model.eval()\n",
        "        name_list = self.dl.dataset.fnames\n",
        "        count=0\n",
        "        with torch.no_grad():\n",
        "            for x,y in iter(self.dl):\n",
        "                x = x.cuda()\n",
        "                if self.half: x = x.half()\n",
        "                p = self.model(x)\n",
        "                py = torch.sigmoid(p).detach()\n",
        "                if self.tta:\n",
        "                    #x,y,xy flips as TTA\n",
        "                    flips = [[-1],[-2],[-2,-1]]\n",
        "                    for f in flips:\n",
        "                        p = self.model(torch.flip(x,f))\n",
        "                        p = torch.flip(p,f)\n",
        "                        py += torch.sigmoid(p).detach()\n",
        "                    py /= (1+len(flips))\n",
        "                if y is not None and len(y.shape)==4 and py.shape != y.shape:\n",
        "                    py = F.upsample(py, size=(y.shape[-2],y.shape[-1]), mode=\"bilinear\")\n",
        "                py = py.permute(0,2,3,1).float().cpu()\n",
        "                batch_size = len(py)\n",
        "                for i in range(batch_size):\n",
        "                    taget = y[i].detach().cpu() if y is not None else None\n",
        "                    yield py[i],taget,name_list[count]\n",
        "                    count += 1\n",
        "                    \n",
        "    def __len__(self):\n",
        "        return len(self.dl.dataset)\n",
        "    \n",
        "class Dice_th_pred(Metric):\n",
        "    def __init__(self, ths=np.arange(0.1,0.9,0.01), axis=1): \n",
        "        self.axis = axis\n",
        "        self.ths = ths\n",
        "        self.reset()\n",
        "        \n",
        "    def reset(self): \n",
        "        self.inter = torch.zeros(len(self.ths))\n",
        "        self.union = torch.zeros(len(self.ths))\n",
        "        \n",
        "    def accumulate(self,p,t):\n",
        "        pred,targ = flatten_check(p, t)\n",
        "        for i,th in enumerate(self.ths):\n",
        "            p = (pred > th).float()\n",
        "            self.inter[i] += (p*targ).float().sum().item()\n",
        "            self.union[i] += (p+targ).float().sum().item()\n",
        "\n",
        "    @property\n",
        "    def value(self):\n",
        "        dices = torch.where(self.union > 0.0, 2.0*self.inter/self.union, \n",
        "                            torch.zeros_like(self.union))\n",
        "        return dices\n",
        "    \n",
        "def save_img(data,name,out):\n",
        "    data = data.float().cpu().numpy()\n",
        "    img = cv2.imencode('.png',(data*255).astype(np.uint8))[1]\n",
        "    out.writestr(name, img)"
      ]
    },
    {
      "cell_type": "markdown",
      "metadata": {
        "id": "u3ZvuzzbLBce",
        "papermill": {
          "duration": 0.03348,
          "end_time": "2022-07-11T10:53:51.471752",
          "exception": false,
          "start_time": "2022-07-11T10:53:51.438272",
          "status": "completed"
        },
        "tags": []
      },
      "source": [
        "# Train"
      ]
    },
    {
      "cell_type": "code",
      "execution_count": null,
      "metadata": {
        "id": "SLWAv5ghOYcY"
      },
      "outputs": [],
      "source": [
        "# ## callbacks - early stopping, save model\n",
        "# cbs=[EarlyStoppingCallback(monitor='valid_loss', min_delta=0, patience=5),\n",
        "#      SaveModelCallback(monitor='dice_th',comp=np.greater)]"
      ]
    },
    {
      "cell_type": "code",
      "execution_count": null,
      "metadata": {
        "_kg_hide-output": true,
        "colab": {
          "base_uri": "https://localhost:8080/",
          "height": 1000
        },
        "execution": {
          "iopub.execute_input": "2022-07-11T10:53:51.549040Z",
          "iopub.status.busy": "2022-07-11T10:53:51.548239Z",
          "iopub.status.idle": "2022-07-11T16:10:53.860520Z",
          "shell.execute_reply": "2022-07-11T16:10:53.859449Z"
        },
        "id": "Pk6DoxTJLBce",
        "outputId": "b1fe0f1f-8c05-4bcb-bbcd-1fbc09ba63a9",
        "papermill": {
          "duration": 19022.354735,
          "end_time": "2022-07-11T16:10:53.860657",
          "exception": false,
          "start_time": "2022-07-11T10:53:51.505922",
          "status": "completed"
        },
        "tags": []
      },
      "outputs": [
        {
          "output_type": "stream",
          "name": "stdout",
          "text": [
            "WandbCallback was not able to prepare a DataLoader for logging prediction samples -> 'HuBMAPDataset' object has no attribute 'items'\n"
          ]
        },
        {
          "output_type": "display_data",
          "data": {
            "text/plain": [
              "<IPython.core.display.HTML object>"
            ],
            "text/html": [
              "\n",
              "<style>\n",
              "    /* Turns off some styling */\n",
              "    progress {\n",
              "        /* gets rid of default border in Firefox and Opera. */\n",
              "        border: none;\n",
              "        /* Needs to be in here for Safari polyfill so background images work as expected. */\n",
              "        background-size: auto;\n",
              "    }\n",
              "    progress:not([value]), progress:not([value])::-webkit-progress-bar {\n",
              "        background: repeating-linear-gradient(45deg, #7e7e7e, #7e7e7e 10px, #5c5c5c 10px, #5c5c5c 20px);\n",
              "    }\n",
              "    .progress-bar-interrupted, .progress-bar-interrupted::-webkit-progress-bar {\n",
              "        background: #F44336;\n",
              "    }\n",
              "</style>\n"
            ]
          },
          "metadata": {}
        },
        {
          "output_type": "display_data",
          "data": {
            "text/plain": [
              "<IPython.core.display.HTML object>"
            ],
            "text/html": [
              "<table border=\"1\" class=\"dataframe\">\n",
              "  <thead>\n",
              "    <tr style=\"text-align: left;\">\n",
              "      <th>epoch</th>\n",
              "      <th>train_loss</th>\n",
              "      <th>valid_loss</th>\n",
              "      <th>dice_soft</th>\n",
              "      <th>dice_th</th>\n",
              "      <th>time</th>\n",
              "    </tr>\n",
              "  </thead>\n",
              "  <tbody>\n",
              "    <tr>\n",
              "      <td>0</td>\n",
              "      <td>1.743290</td>\n",
              "      <td>2.453673</td>\n",
              "      <td>0.142554</td>\n",
              "      <td>0.184348</td>\n",
              "      <td>03:05</td>\n",
              "    </tr>\n",
              "    <tr>\n",
              "      <td>1</td>\n",
              "      <td>1.656599</td>\n",
              "      <td>1.554554</td>\n",
              "      <td>0.293528</td>\n",
              "      <td>0.494128</td>\n",
              "      <td>02:42</td>\n",
              "    </tr>\n",
              "    <tr>\n",
              "      <td>2</td>\n",
              "      <td>1.510176</td>\n",
              "      <td>1.472637</td>\n",
              "      <td>0.350604</td>\n",
              "      <td>0.548625</td>\n",
              "      <td>02:51</td>\n",
              "    </tr>\n",
              "    <tr>\n",
              "      <td>3</td>\n",
              "      <td>1.476762</td>\n",
              "      <td>1.452710</td>\n",
              "      <td>0.351857</td>\n",
              "      <td>0.595503</td>\n",
              "      <td>02:56</td>\n",
              "    </tr>\n",
              "    <tr>\n",
              "      <td>4</td>\n",
              "      <td>1.453449</td>\n",
              "      <td>1.427086</td>\n",
              "      <td>0.395176</td>\n",
              "      <td>0.593322</td>\n",
              "      <td>02:49</td>\n",
              "    </tr>\n",
              "  </tbody>\n",
              "</table>"
            ]
          },
          "metadata": {}
        },
        {
          "output_type": "display_data",
          "data": {
            "text/plain": [
              "<IPython.core.display.HTML object>"
            ],
            "text/html": [
              "\n",
              "<style>\n",
              "    /* Turns off some styling */\n",
              "    progress {\n",
              "        /* gets rid of default border in Firefox and Opera. */\n",
              "        border: none;\n",
              "        /* Needs to be in here for Safari polyfill so background images work as expected. */\n",
              "        background-size: auto;\n",
              "    }\n",
              "    progress:not([value]), progress:not([value])::-webkit-progress-bar {\n",
              "        background: repeating-linear-gradient(45deg, #7e7e7e, #7e7e7e 10px, #5c5c5c 10px, #5c5c5c 20px);\n",
              "    }\n",
              "    .progress-bar-interrupted, .progress-bar-interrupted::-webkit-progress-bar {\n",
              "        background: #F44336;\n",
              "    }\n",
              "</style>\n"
            ]
          },
          "metadata": {}
        },
        {
          "output_type": "display_data",
          "data": {
            "text/plain": [
              "<IPython.core.display.HTML object>"
            ],
            "text/html": [
              "\n",
              "    <div>\n",
              "      <progress value='42' class='' max='50' style='width:300px; height:20px; vertical-align: middle;'></progress>\n",
              "      84.00% [42/50 2:55:02&lt;33:20]\n",
              "    </div>\n",
              "    \n",
              "<table border=\"1\" class=\"dataframe\">\n",
              "  <thead>\n",
              "    <tr style=\"text-align: left;\">\n",
              "      <th>epoch</th>\n",
              "      <th>train_loss</th>\n",
              "      <th>valid_loss</th>\n",
              "      <th>dice_soft</th>\n",
              "      <th>dice_th</th>\n",
              "      <th>time</th>\n",
              "    </tr>\n",
              "  </thead>\n",
              "  <tbody>\n",
              "    <tr>\n",
              "      <td>0</td>\n",
              "      <td>1.443681</td>\n",
              "      <td>1.402583</td>\n",
              "      <td>0.390251</td>\n",
              "      <td>0.617639</td>\n",
              "      <td>04:12</td>\n",
              "    </tr>\n",
              "    <tr>\n",
              "      <td>1</td>\n",
              "      <td>1.409181</td>\n",
              "      <td>1.356614</td>\n",
              "      <td>0.430338</td>\n",
              "      <td>0.653459</td>\n",
              "      <td>04:10</td>\n",
              "    </tr>\n",
              "    <tr>\n",
              "      <td>2</td>\n",
              "      <td>1.381429</td>\n",
              "      <td>1.313710</td>\n",
              "      <td>0.458226</td>\n",
              "      <td>0.645639</td>\n",
              "      <td>04:10</td>\n",
              "    </tr>\n",
              "    <tr>\n",
              "      <td>3</td>\n",
              "      <td>1.360977</td>\n",
              "      <td>1.254853</td>\n",
              "      <td>0.492001</td>\n",
              "      <td>0.702399</td>\n",
              "      <td>04:11</td>\n",
              "    </tr>\n",
              "    <tr>\n",
              "      <td>4</td>\n",
              "      <td>1.339377</td>\n",
              "      <td>1.245507</td>\n",
              "      <td>0.499042</td>\n",
              "      <td>0.742367</td>\n",
              "      <td>04:09</td>\n",
              "    </tr>\n",
              "    <tr>\n",
              "      <td>5</td>\n",
              "      <td>1.256938</td>\n",
              "      <td>1.172576</td>\n",
              "      <td>0.592464</td>\n",
              "      <td>0.756278</td>\n",
              "      <td>04:10</td>\n",
              "    </tr>\n",
              "    <tr>\n",
              "      <td>6</td>\n",
              "      <td>1.283157</td>\n",
              "      <td>1.119544</td>\n",
              "      <td>0.619524</td>\n",
              "      <td>0.774847</td>\n",
              "      <td>04:10</td>\n",
              "    </tr>\n",
              "    <tr>\n",
              "      <td>7</td>\n",
              "      <td>1.204456</td>\n",
              "      <td>1.093548</td>\n",
              "      <td>0.634399</td>\n",
              "      <td>0.765043</td>\n",
              "      <td>04:12</td>\n",
              "    </tr>\n",
              "    <tr>\n",
              "      <td>8</td>\n",
              "      <td>1.166065</td>\n",
              "      <td>1.041484</td>\n",
              "      <td>0.672252</td>\n",
              "      <td>0.801300</td>\n",
              "      <td>04:09</td>\n",
              "    </tr>\n",
              "    <tr>\n",
              "      <td>9</td>\n",
              "      <td>1.085679</td>\n",
              "      <td>1.126647</td>\n",
              "      <td>0.692662</td>\n",
              "      <td>0.807388</td>\n",
              "      <td>04:08</td>\n",
              "    </tr>\n",
              "    <tr>\n",
              "      <td>10</td>\n",
              "      <td>1.073629</td>\n",
              "      <td>0.969028</td>\n",
              "      <td>0.714933</td>\n",
              "      <td>0.816997</td>\n",
              "      <td>04:09</td>\n",
              "    </tr>\n",
              "    <tr>\n",
              "      <td>11</td>\n",
              "      <td>1.021069</td>\n",
              "      <td>0.991485</td>\n",
              "      <td>0.746002</td>\n",
              "      <td>0.824132</td>\n",
              "      <td>04:08</td>\n",
              "    </tr>\n",
              "    <tr>\n",
              "      <td>12</td>\n",
              "      <td>1.058360</td>\n",
              "      <td>0.985882</td>\n",
              "      <td>0.726562</td>\n",
              "      <td>0.835862</td>\n",
              "      <td>04:13</td>\n",
              "    </tr>\n",
              "    <tr>\n",
              "      <td>13</td>\n",
              "      <td>1.033525</td>\n",
              "      <td>0.982106</td>\n",
              "      <td>0.697571</td>\n",
              "      <td>0.838290</td>\n",
              "      <td>04:11</td>\n",
              "    </tr>\n",
              "    <tr>\n",
              "      <td>14</td>\n",
              "      <td>0.999447</td>\n",
              "      <td>0.966022</td>\n",
              "      <td>0.699353</td>\n",
              "      <td>0.828145</td>\n",
              "      <td>04:06</td>\n",
              "    </tr>\n",
              "    <tr>\n",
              "      <td>15</td>\n",
              "      <td>0.975908</td>\n",
              "      <td>0.956304</td>\n",
              "      <td>0.735933</td>\n",
              "      <td>0.840808</td>\n",
              "      <td>04:11</td>\n",
              "    </tr>\n",
              "    <tr>\n",
              "      <td>16</td>\n",
              "      <td>0.978811</td>\n",
              "      <td>0.870892</td>\n",
              "      <td>0.762009</td>\n",
              "      <td>0.849845</td>\n",
              "      <td>04:09</td>\n",
              "    </tr>\n",
              "    <tr>\n",
              "      <td>17</td>\n",
              "      <td>0.894515</td>\n",
              "      <td>0.857582</td>\n",
              "      <td>0.746884</td>\n",
              "      <td>0.845447</td>\n",
              "      <td>04:10</td>\n",
              "    </tr>\n",
              "    <tr>\n",
              "      <td>18</td>\n",
              "      <td>0.876415</td>\n",
              "      <td>0.841427</td>\n",
              "      <td>0.729311</td>\n",
              "      <td>0.862709</td>\n",
              "      <td>04:09</td>\n",
              "    </tr>\n",
              "    <tr>\n",
              "      <td>19</td>\n",
              "      <td>0.888274</td>\n",
              "      <td>0.844308</td>\n",
              "      <td>0.767283</td>\n",
              "      <td>0.861382</td>\n",
              "      <td>04:10</td>\n",
              "    </tr>\n",
              "    <tr>\n",
              "      <td>20</td>\n",
              "      <td>0.879881</td>\n",
              "      <td>0.849929</td>\n",
              "      <td>0.759045</td>\n",
              "      <td>0.844692</td>\n",
              "      <td>04:08</td>\n",
              "    </tr>\n",
              "    <tr>\n",
              "      <td>21</td>\n",
              "      <td>0.855759</td>\n",
              "      <td>0.870462</td>\n",
              "      <td>0.773153</td>\n",
              "      <td>0.861034</td>\n",
              "      <td>04:07</td>\n",
              "    </tr>\n",
              "    <tr>\n",
              "      <td>22</td>\n",
              "      <td>0.856492</td>\n",
              "      <td>0.858287</td>\n",
              "      <td>0.809065</td>\n",
              "      <td>0.871361</td>\n",
              "      <td>04:08</td>\n",
              "    </tr>\n",
              "    <tr>\n",
              "      <td>23</td>\n",
              "      <td>0.845790</td>\n",
              "      <td>0.897950</td>\n",
              "      <td>0.789821</td>\n",
              "      <td>0.852333</td>\n",
              "      <td>04:08</td>\n",
              "    </tr>\n",
              "    <tr>\n",
              "      <td>24</td>\n",
              "      <td>0.815443</td>\n",
              "      <td>0.829853</td>\n",
              "      <td>0.805102</td>\n",
              "      <td>0.868766</td>\n",
              "      <td>04:11</td>\n",
              "    </tr>\n",
              "    <tr>\n",
              "      <td>25</td>\n",
              "      <td>0.806261</td>\n",
              "      <td>0.832447</td>\n",
              "      <td>0.790438</td>\n",
              "      <td>0.859329</td>\n",
              "      <td>04:09</td>\n",
              "    </tr>\n",
              "    <tr>\n",
              "      <td>26</td>\n",
              "      <td>0.751421</td>\n",
              "      <td>0.825279</td>\n",
              "      <td>0.779000</td>\n",
              "      <td>0.858654</td>\n",
              "      <td>04:09</td>\n",
              "    </tr>\n",
              "    <tr>\n",
              "      <td>27</td>\n",
              "      <td>0.786055</td>\n",
              "      <td>0.802268</td>\n",
              "      <td>0.777476</td>\n",
              "      <td>0.870587</td>\n",
              "      <td>04:07</td>\n",
              "    </tr>\n",
              "    <tr>\n",
              "      <td>28</td>\n",
              "      <td>0.765665</td>\n",
              "      <td>0.808037</td>\n",
              "      <td>0.788377</td>\n",
              "      <td>0.858485</td>\n",
              "      <td>04:10</td>\n",
              "    </tr>\n",
              "    <tr>\n",
              "      <td>29</td>\n",
              "      <td>0.776203</td>\n",
              "      <td>0.849812</td>\n",
              "      <td>0.755303</td>\n",
              "      <td>0.839273</td>\n",
              "      <td>04:08</td>\n",
              "    </tr>\n",
              "    <tr>\n",
              "      <td>30</td>\n",
              "      <td>0.660566</td>\n",
              "      <td>0.833235</td>\n",
              "      <td>0.802382</td>\n",
              "      <td>0.852649</td>\n",
              "      <td>04:10</td>\n",
              "    </tr>\n",
              "    <tr>\n",
              "      <td>31</td>\n",
              "      <td>0.738559</td>\n",
              "      <td>0.851894</td>\n",
              "      <td>0.754589</td>\n",
              "      <td>0.822786</td>\n",
              "      <td>04:09</td>\n",
              "    </tr>\n",
              "    <tr>\n",
              "      <td>32</td>\n",
              "      <td>0.716997</td>\n",
              "      <td>1.017872</td>\n",
              "      <td>0.753862</td>\n",
              "      <td>0.815564</td>\n",
              "      <td>04:10</td>\n",
              "    </tr>\n",
              "    <tr>\n",
              "      <td>33</td>\n",
              "      <td>0.742290</td>\n",
              "      <td>0.798777</td>\n",
              "      <td>0.790336</td>\n",
              "      <td>0.856819</td>\n",
              "      <td>04:12</td>\n",
              "    </tr>\n",
              "    <tr>\n",
              "      <td>34</td>\n",
              "      <td>0.710254</td>\n",
              "      <td>0.875659</td>\n",
              "      <td>0.775087</td>\n",
              "      <td>0.846025</td>\n",
              "      <td>04:13</td>\n",
              "    </tr>\n",
              "    <tr>\n",
              "      <td>35</td>\n",
              "      <td>0.670997</td>\n",
              "      <td>0.811003</td>\n",
              "      <td>0.802139</td>\n",
              "      <td>0.859675</td>\n",
              "      <td>04:10</td>\n",
              "    </tr>\n",
              "    <tr>\n",
              "      <td>36</td>\n",
              "      <td>0.672608</td>\n",
              "      <td>0.817536</td>\n",
              "      <td>0.801784</td>\n",
              "      <td>0.855598</td>\n",
              "      <td>04:10</td>\n",
              "    </tr>\n",
              "    <tr>\n",
              "      <td>37</td>\n",
              "      <td>0.634294</td>\n",
              "      <td>0.855592</td>\n",
              "      <td>0.809159</td>\n",
              "      <td>0.851496</td>\n",
              "      <td>04:06</td>\n",
              "    </tr>\n",
              "    <tr>\n",
              "      <td>38</td>\n",
              "      <td>0.626830</td>\n",
              "      <td>0.894409</td>\n",
              "      <td>0.788126</td>\n",
              "      <td>0.832231</td>\n",
              "      <td>04:10</td>\n",
              "    </tr>\n",
              "    <tr>\n",
              "      <td>39</td>\n",
              "      <td>0.620265</td>\n",
              "      <td>0.864665</td>\n",
              "      <td>0.811287</td>\n",
              "      <td>0.850050</td>\n",
              "      <td>04:08</td>\n",
              "    </tr>\n",
              "    <tr>\n",
              "      <td>40</td>\n",
              "      <td>0.622857</td>\n",
              "      <td>0.869044</td>\n",
              "      <td>0.810717</td>\n",
              "      <td>0.849647</td>\n",
              "      <td>04:09</td>\n",
              "    </tr>\n",
              "    <tr>\n",
              "      <td>41</td>\n",
              "      <td>0.629091</td>\n",
              "      <td>0.887492</td>\n",
              "      <td>0.801103</td>\n",
              "      <td>0.849304</td>\n",
              "      <td>04:10</td>\n",
              "    </tr>\n",
              "  </tbody>\n",
              "</table><p>\n",
              "\n",
              "    <div>\n",
              "      <progress value='52' class='' max='263' style='width:300px; height:20px; vertical-align: middle;'></progress>\n",
              "      19.77% [52/263 00:46&lt;03:10 0.6015]\n",
              "    </div>\n",
              "    "
            ]
          },
          "metadata": {}
        },
        {
          "output_type": "stream",
          "name": "stdout",
          "text": [
            "Better model found at epoch 0 with dice_th value: 0.6176393628120422.\n",
            "Better model found at epoch 1 with dice_th value: 0.653458833694458.\n",
            "Better model found at epoch 3 with dice_th value: 0.7023987174034119.\n",
            "Better model found at epoch 4 with dice_th value: 0.7423673868179321.\n",
            "Better model found at epoch 5 with dice_th value: 0.7562782168388367.\n",
            "Better model found at epoch 6 with dice_th value: 0.7748473882675171.\n",
            "Better model found at epoch 8 with dice_th value: 0.8013003468513489.\n",
            "Better model found at epoch 9 with dice_th value: 0.8073884844779968.\n",
            "Better model found at epoch 10 with dice_th value: 0.8169971108436584.\n",
            "Better model found at epoch 11 with dice_th value: 0.8241323232650757.\n",
            "Better model found at epoch 12 with dice_th value: 0.8358619809150696.\n",
            "Better model found at epoch 13 with dice_th value: 0.8382900357246399.\n",
            "Better model found at epoch 15 with dice_th value: 0.8408076763153076.\n",
            "Better model found at epoch 16 with dice_th value: 0.8498451113700867.\n",
            "Better model found at epoch 18 with dice_th value: 0.8627089858055115.\n",
            "Better model found at epoch 22 with dice_th value: 0.8713614344596863.\n"
          ]
        }
      ],
      "source": [
        "dice = Dice_th_pred(np.arange(0.2,0.7,0.01))\n",
        "for fold in range(1):\n",
        "    ds_t = HuBMAPDataset(fold=fold, train=True, tfms=get_aug())\n",
        "    ds_v = HuBMAPDataset(fold=fold, train=False)\n",
        "    data = ImageDataLoaders.from_dsets(ds_t,ds_v,bs=bs,\n",
        "                num_workers=NUM_WORKERS,pin_memory=True).cuda()\n",
        "    model = EffUnet('efficientnet-b3').cuda()\n",
        "    learn = Learner(data, model, loss_func=symmetric_lovasz,\n",
        "                metrics=[Dice_soft(),Dice_th()], \n",
        "                splitter=split_layers,\n",
        "                cbs=WandbCallback())\n",
        "    # .to_fp16(clip=0.5)\n",
        "    \n",
        "    #start with training the head\n",
        "    learn.freeze_to(-1) #doesn't work\n",
        "    for param in learn.opt.param_groups[0]['params']:\n",
        "        param.requires_grad = False\n",
        "    learn.fit_one_cycle(head_epochs, lr_max=lr_max)\n",
        "\n",
        "    #continue training full model\n",
        "    learn.unfreeze()\n",
        "    learn.fit_one_cycle(full_epochs, lr_max=lr_slice,\n",
        "        cbs=SaveModelCallback(monitor='dice_th',comp=np.greater)) # dice_th 제일 높은 기준으로 저장\n",
        "    # learn.fit_one_cycle(full_epochs, lr_max=lr_slice,\n",
        "    #     cbs=SaveModelCallback(monitor='valid_loss',comp=np.less)) # valid_loss 제일 낮은 기준으로 저장\n",
        "    # learn.fit_one_cycle(full_epochs, lr_max=lr_slice,\n",
        "    #     cbs=SaveModelCallback(monitor='train_loss',comp=np.less)) # train_loss 제일 낮은 기준으로 저장\n",
        "    torch.save(learn.model.state_dict(),f'b3_768_p1_dice_model_{fold}.pth')\n",
        "    \n",
        "    #model evaluation on val and saving the masks\n",
        "    mp = Model_pred(learn.model,learn.dls.loaders[1])\n",
        "    with zipfile.ZipFile('val_masks_tta.zip', 'a') as out:\n",
        "        for p in progress_bar(mp):\n",
        "            dice.accumulate(p[0],p[1])\n",
        "            save_img(p[0],p[2],out)\n",
        "    gc.collect()"
      ]
    },
    {
      "cell_type": "code",
      "source": [
        "!cp /content/b3_768_p1_dice_model_0.pth /content/drive/MyDrive/data"
      ],
      "metadata": {
        "id": "sCMs4HFZM_VQ"
      },
      "execution_count": null,
      "outputs": []
    },
    {
      "cell_type": "code",
      "execution_count": null,
      "metadata": {
        "execution": {
          "iopub.execute_input": "2022-07-11T16:10:53.990103Z",
          "iopub.status.busy": "2022-07-11T16:10:53.989292Z",
          "iopub.status.idle": "2022-07-11T16:10:54.176649Z",
          "shell.execute_reply": "2022-07-11T16:10:54.175832Z"
        },
        "id": "slAT21BmLBce",
        "outputId": "4e4f4b8a-573e-455b-9b7e-00beebf14a91",
        "papermill": {
          "duration": 0.254718,
          "end_time": "2022-07-11T16:10:54.176762",
          "exception": false,
          "start_time": "2022-07-11T16:10:53.922044",
          "status": "completed"
        },
        "tags": [],
        "colab": {
          "base_uri": "https://localhost:8080/",
          "height": 265
        }
      },
      "outputs": [
        {
          "output_type": "display_data",
          "data": {
            "text/plain": [
              "<Figure size 576x288 with 1 Axes>"
            ],
            "image/png": "[encoded data removed]"
          },
          "metadata": {
            "needs_background": "light"
          }
        }
      ],
      "source": [
        "dices = dice.value\n",
        "noise_ths = dice.ths\n",
        "best_dice = dices.max()\n",
        "best_thr = noise_ths[dices.argmax()]\n",
        "plt.figure(figsize=(8,4))\n",
        "plt.plot(noise_ths, dices, color='blue')\n",
        "plt.vlines(x=best_thr, ymin=dices.min(), ymax=dices.max(), colors='black')\n",
        "d = dices.max() - dices.min()\n",
        "plt.text(noise_ths[-1]-0.1, best_dice-0.1*d, f'DICE = {best_dice:.3f}', fontsize=12);\n",
        "plt.text(noise_ths[-1]-0.1, best_dice-0.2*d, f'TH = {best_thr:.3f}', fontsize=12);\n",
        "plt.show()"
      ]
    },
    {
      "cell_type": "code",
      "execution_count": null,
      "metadata": {
        "id": "FrWVvUwCnRDn"
      },
      "outputs": [],
      "source": [
        "# !mkdir {dataset_name}\n",
        "# !mv ./model_0.pth ./{dataset_name}\n",
        "# !mv ./model_1.pth ./{dataset_name}\n",
        "# !mv ./model_2.pth ./{dataset_name}\n",
        "# !mv ./model_3.pth ./{dataset_name}"
      ]
    },
    {
      "cell_type": "code",
      "execution_count": null,
      "metadata": {
        "id": "a3iq9CVzqoeC",
        "outputId": "fd5c563d-46ca-4538-d881-888dc4f64a51"
      },
      "outputs": [
        {
          "name": "stdout",
          "output_type": "stream",
          "text": [
            "\tzip warning: name not matched: ./model\n",
            "\n",
            "zip error: Nothing to do! (try: zip -r ulala.zip . -i ./model)\n"
          ]
        }
      ],
      "source": [
        "# !zip {dataset_name}.zip -r ./{dataset_name}"
      ]
    },
    {
      "cell_type": "code",
      "execution_count": null,
      "metadata": {
        "id": "_qCYshh0qoeC"
      },
      "outputs": [],
      "source": []
    }
  ],
  "metadata": {
    "accelerator": "GPU",
    "colab": {
      "collapsed_sections": [],
      "provenance": [],
      "machine_shape": "hm",
      "include_colab_link": true
    },
    "gpuClass": "standard",
    "kernelspec": {
      "display_name": "Python 3.8.10 64-bit",
      "language": "python",
      "name": "python3"
    },
    "language_info": {
      "codemirror_mode": {
        "name": "ipython",
        "version": 3
      },
      "file_extension": ".py",
      "mimetype": "text/x-python",
      "name": "python",
      "nbconvert_exporter": "python",
      "pygments_lexer": "ipython3",
      "version": "3.8.10"
    },
    "papermill": {
      "duration": 19044.876301,
      "end_time": "2022-07-11T16:10:55.460439",
      "environment_variables": {},
      "exception": null,
      "input_path": "__notebook__.ipynb",
      "output_path": "__notebook__.ipynb",
      "parameters": {},
      "start_time": "2022-07-11T10:53:30.584138",
      "version": "2.1.0"
    },
    "vscode": {
      "interpreter": {
        "hash": "916dbcbb3f70747c44a77c7bcd40155683ae19c65e1c03b4aa3499c5328201f1"
      }
    }
  },
  "nbformat": 4,
  "nbformat_minor": 0
}