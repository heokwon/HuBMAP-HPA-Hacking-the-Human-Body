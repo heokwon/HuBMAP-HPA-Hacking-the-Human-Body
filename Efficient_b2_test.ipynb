{
  "cells": [
    {
      "cell_type": "markdown",
      "metadata": {
        "id": "view-in-github",
        "colab_type": "text"
      },
      "source": [
        "<a href=\"https://colab.research.google.com/github/heokwon/i-seg-you/blob/main/Efficient_b2_test.ipynb\" target=\"_parent\"><img src=\"https://colab.research.google.com/assets/colab-badge.svg\" alt=\"Open In Colab\"/></a>"
      ]
    },
    {
      "cell_type": "code",
      "execution_count": null,
      "metadata": {
        "colab": {
          "base_uri": "https://localhost:8080/"
        },
        "id": "29aDlVuXXF2P",
        "outputId": "6334e33c-b59f-4de6-cbb7-66e050f8d2e2"
      },
      "outputs": [
        {
          "name": "stdout",
          "output_type": "stream",
          "text": [
            "Tue Aug 30 02:42:34 2022       \n",
            "+-----------------------------------------------------------------------------+\n",
            "| NVIDIA-SMI 510.73.08    Driver Version: 510.73.08    CUDA Version: 11.6     |\n",
            "|-------------------------------+----------------------+----------------------+\n",
            "| GPU  Name        Persistence-M| Bus-Id        Disp.A | Volatile Uncorr. ECC |\n",
            "| Fan  Temp  Perf  Pwr:Usage/Cap|         Memory-Usage | GPU-Util  Compute M. |\n",
            "|                               |                      |               MIG M. |\n",
            "|===============================+======================+======================|\n",
            "|   0  NVIDIA A10G         On   | 00000000:00:1E.0 Off |                    0 |\n",
            "|  0%   29C    P8    16W / 300W |      0MiB / 23028MiB |      0%      Default |\n",
            "|                               |                      |                  N/A |\n",
            "+-------------------------------+----------------------+----------------------+\n",
            "                                                                               \n",
            "+-----------------------------------------------------------------------------+\n",
            "| Processes:                                                                  |\n",
            "|  GPU   GI   CI        PID   Type   Process name                  GPU Memory |\n",
            "|        ID   ID                                                   Usage      |\n",
            "|=============================================================================|\n",
            "|  No running processes found                                                 |\n",
            "+-----------------------------------------------------------------------------+\n"
          ]
        }
      ],
      "source": [
        "!nvidia-smi"
      ]
    },
    {
      "cell_type": "markdown",
      "metadata": {
        "id": "265r_Nphqodz"
      },
      "source": [
        "# Download"
      ]
    },
    {
      "cell_type": "code",
      "execution_count": 1,
      "metadata": {
        "colab": {
          "base_uri": "https://localhost:8080/"
        },
        "id": "LeL5j95cVC8g",
        "outputId": "9df47b24-6d73-4f80-9cf7-49e4e74f6a4e"
      },
      "outputs": [
        {
          "output_type": "stream",
          "name": "stdout",
          "text": [
            "Looking in indexes: https://pypi.org/simple, https://us-python.pkg.dev/colab-wheels/public/simple/\n",
            "Collecting rasterio\n",
            "  Downloading rasterio-1.2.10-cp37-cp37m-manylinux1_x86_64.whl (19.3 MB)\n",
            "\u001b[K     |████████████████████████████████| 19.3 MB 14.6 MB/s \n",
            "\u001b[?25hCollecting efficientnet_pytorch\n",
            "  Downloading efficientnet_pytorch-0.7.1.tar.gz (21 kB)\n",
            "Collecting wandb\n",
            "  Downloading wandb-0.13.3-py2.py3-none-any.whl (1.8 MB)\n",
            "\u001b[K     |████████████████████████████████| 1.8 MB 62.2 MB/s \n",
            "\u001b[?25hRequirement already satisfied: numpy in /usr/local/lib/python3.7/dist-packages (from rasterio) (1.21.6)\n",
            "Requirement already satisfied: certifi in /usr/local/lib/python3.7/dist-packages (from rasterio) (2022.6.15)\n",
            "Collecting click-plugins\n",
            "  Downloading click_plugins-1.1.1-py2.py3-none-any.whl (7.5 kB)\n",
            "Requirement already satisfied: attrs in /usr/local/lib/python3.7/dist-packages (from rasterio) (22.1.0)\n",
            "Requirement already satisfied: setuptools in /usr/local/lib/python3.7/dist-packages (from rasterio) (57.4.0)\n",
            "Collecting cligj>=0.5\n",
            "  Downloading cligj-0.7.2-py3-none-any.whl (7.1 kB)\n",
            "Collecting snuggs>=1.4.1\n",
            "  Downloading snuggs-1.4.7-py3-none-any.whl (5.4 kB)\n",
            "Collecting affine\n",
            "  Downloading affine-2.3.1-py2.py3-none-any.whl (16 kB)\n",
            "Requirement already satisfied: click>=4.0 in /usr/local/lib/python3.7/dist-packages (from rasterio) (7.1.2)\n",
            "Requirement already satisfied: pyparsing>=2.1.6 in /usr/local/lib/python3.7/dist-packages (from snuggs>=1.4.1->rasterio) (3.0.9)\n",
            "Requirement already satisfied: torch in /usr/local/lib/python3.7/dist-packages (from efficientnet_pytorch) (1.12.1+cu113)\n",
            "Requirement already satisfied: requests<3,>=2.0.0 in /usr/local/lib/python3.7/dist-packages (from wandb) (2.23.0)\n",
            "Requirement already satisfied: six>=1.13.0 in /usr/local/lib/python3.7/dist-packages (from wandb) (1.15.0)\n",
            "Requirement already satisfied: psutil>=5.0.0 in /usr/local/lib/python3.7/dist-packages (from wandb) (5.4.8)\n",
            "Collecting sentry-sdk>=1.0.0\n",
            "  Downloading sentry_sdk-1.9.8-py2.py3-none-any.whl (158 kB)\n",
            "\u001b[K     |████████████████████████████████| 158 kB 78.4 MB/s \n",
            "\u001b[?25hCollecting setproctitle\n",
            "  Downloading setproctitle-1.3.2-cp37-cp37m-manylinux_2_5_x86_64.manylinux1_x86_64.manylinux_2_17_x86_64.manylinux2014_x86_64.whl (30 kB)\n",
            "Requirement already satisfied: protobuf<4.0dev,>=3.12.0 in /usr/local/lib/python3.7/dist-packages (from wandb) (3.17.3)\n",
            "Collecting pathtools\n",
            "  Downloading pathtools-0.1.2.tar.gz (11 kB)\n",
            "Collecting GitPython>=1.0.0\n",
            "  Downloading GitPython-3.1.27-py3-none-any.whl (181 kB)\n",
            "\u001b[K     |████████████████████████████████| 181 kB 58.5 MB/s \n",
            "\u001b[?25hCollecting docker-pycreds>=0.4.0\n",
            "  Downloading docker_pycreds-0.4.0-py2.py3-none-any.whl (9.0 kB)\n",
            "Collecting shortuuid>=0.5.0\n",
            "  Downloading shortuuid-1.0.9-py3-none-any.whl (9.4 kB)\n",
            "Requirement already satisfied: PyYAML in /usr/local/lib/python3.7/dist-packages (from wandb) (6.0)\n",
            "Requirement already satisfied: promise<3,>=2.0 in /usr/local/lib/python3.7/dist-packages (from wandb) (2.3)\n",
            "Requirement already satisfied: typing-extensions>=3.7.4.3 in /usr/local/lib/python3.7/dist-packages (from GitPython>=1.0.0->wandb) (4.1.1)\n",
            "Collecting gitdb<5,>=4.0.1\n",
            "  Downloading gitdb-4.0.9-py3-none-any.whl (63 kB)\n",
            "\u001b[K     |████████████████████████████████| 63 kB 2.3 MB/s \n",
            "\u001b[?25hCollecting smmap<6,>=3.0.1\n",
            "  Downloading smmap-5.0.0-py3-none-any.whl (24 kB)\n",
            "Requirement already satisfied: idna<3,>=2.5 in /usr/local/lib/python3.7/dist-packages (from requests<3,>=2.0.0->wandb) (2.10)\n",
            "Requirement already satisfied: chardet<4,>=3.0.2 in /usr/local/lib/python3.7/dist-packages (from requests<3,>=2.0.0->wandb) (3.0.4)\n",
            "Requirement already satisfied: urllib3!=1.25.0,!=1.25.1,<1.26,>=1.21.1 in /usr/local/lib/python3.7/dist-packages (from requests<3,>=2.0.0->wandb) (1.24.3)\n",
            "Collecting sentry-sdk>=1.0.0\n",
            "  Downloading sentry_sdk-1.9.7-py2.py3-none-any.whl (157 kB)\n",
            "\u001b[K     |████████████████████████████████| 157 kB 67.7 MB/s \n",
            "\u001b[?25h  Downloading sentry_sdk-1.9.6-py2.py3-none-any.whl (157 kB)\n",
            "\u001b[K     |████████████████████████████████| 157 kB 72.0 MB/s \n",
            "\u001b[?25h  Downloading sentry_sdk-1.9.5-py2.py3-none-any.whl (157 kB)\n",
            "\u001b[K     |████████████████████████████████| 157 kB 58.7 MB/s \n",
            "\u001b[?25h  Downloading sentry_sdk-1.9.4-py2.py3-none-any.whl (157 kB)\n",
            "\u001b[K     |████████████████████████████████| 157 kB 64.6 MB/s \n",
            "\u001b[?25h  Downloading sentry_sdk-1.9.3-py2.py3-none-any.whl (157 kB)\n",
            "\u001b[K     |████████████████████████████████| 157 kB 77.8 MB/s \n",
            "\u001b[?25h  Downloading sentry_sdk-1.9.2-py2.py3-none-any.whl (157 kB)\n",
            "\u001b[K     |████████████████████████████████| 157 kB 74.8 MB/s \n",
            "\u001b[?25h  Downloading sentry_sdk-1.9.1-py2.py3-none-any.whl (157 kB)\n",
            "\u001b[K     |████████████████████████████████| 157 kB 62.1 MB/s \n",
            "\u001b[?25h  Downloading sentry_sdk-1.9.0-py2.py3-none-any.whl (156 kB)\n",
            "\u001b[K     |████████████████████████████████| 156 kB 68.9 MB/s \n",
            "\u001b[?25hBuilding wheels for collected packages: efficientnet-pytorch, pathtools\n",
            "  Building wheel for efficientnet-pytorch (setup.py) ... \u001b[?25l\u001b[?25hdone\n",
            "  Created wheel for efficientnet-pytorch: filename=efficientnet_pytorch-0.7.1-py3-none-any.whl size=16446 sha256=46077c78f1ba5a49b29de74db53b014f7359e1ed3d4947b00c730f05417dc7e7\n",
            "  Stored in directory: /root/.cache/pip/wheels/0e/cc/b2/49e74588263573ff778da58cc99b9c6349b496636a7e165be6\n",
            "  Building wheel for pathtools (setup.py) ... \u001b[?25l\u001b[?25hdone\n",
            "  Created wheel for pathtools: filename=pathtools-0.1.2-py3-none-any.whl size=8806 sha256=bce8ece8228ddfa94c873d85641b2f8297084412176610217e034cf81196137f\n",
            "  Stored in directory: /root/.cache/pip/wheels/3e/31/09/fa59cef12cdcfecc627b3d24273699f390e71828921b2cbba2\n",
            "Successfully built efficientnet-pytorch pathtools\n",
            "Installing collected packages: smmap, gitdb, snuggs, shortuuid, setproctitle, sentry-sdk, pathtools, GitPython, docker-pycreds, cligj, click-plugins, affine, wandb, rasterio, efficientnet-pytorch\n",
            "Successfully installed GitPython-3.1.27 affine-2.3.1 click-plugins-1.1.1 cligj-0.7.2 docker-pycreds-0.4.0 efficientnet-pytorch-0.7.1 gitdb-4.0.9 pathtools-0.1.2 rasterio-1.2.10 sentry-sdk-1.9.0 setproctitle-1.3.2 shortuuid-1.0.9 smmap-5.0.0 snuggs-1.4.7 wandb-0.13.3\n"
          ]
        }
      ],
      "source": [
        "!pip install rasterio efficientnet_pytorch wandb"
      ]
    },
    {
      "cell_type": "code",
      "execution_count": null,
      "metadata": {
        "id": "4-27DhmabTrr"
      },
      "outputs": [],
      "source": [
        "# !git clone https://github.com/albumentations-team/albumentations.git"
      ]
    },
    {
      "cell_type": "markdown",
      "metadata": {
        "id": "fsYz43n2cTpm"
      },
      "source": [
        "# Wandb login"
      ]
    },
    {
      "cell_type": "code",
      "execution_count": 2,
      "metadata": {
        "id": "EX-IKr0Eqod1"
      },
      "outputs": [],
      "source": [
        "import os\n",
        "\n",
        "os.environ[\"WANDB_NOTEBOOK_NAME\"] = \"Efficient_b2_test.ipynb\""
      ]
    },
    {
      "cell_type": "code",
      "execution_count": 3,
      "metadata": {
        "colab": {
          "base_uri": "https://localhost:8080/",
          "height": 89
        },
        "id": "EyugWkPucXLV",
        "outputId": "704a6ca3-f601-41e9-b6a2-94775d4bc702"
      },
      "outputs": [
        {
          "output_type": "stream",
          "name": "stderr",
          "text": [
            "\u001b[34m\u001b[1mwandb\u001b[0m: \u001b[33mWARNING\u001b[0m WANDB_NOTEBOOK_NAME should be a path to a notebook file, couldn't find Efficient_b2_test.ipynb.\n"
          ]
        },
        {
          "output_type": "display_data",
          "data": {
            "text/plain": [
              "<IPython.core.display.Javascript object>"
            ],
            "application/javascript": [
              "\n",
              "        window._wandbApiKey = new Promise((resolve, reject) => {\n",
              "            function loadScript(url) {\n",
              "            return new Promise(function(resolve, reject) {\n",
              "                let newScript = document.createElement(\"script\");\n",
              "                newScript.onerror = reject;\n",
              "                newScript.onload = resolve;\n",
              "                document.body.appendChild(newScript);\n",
              "                newScript.src = url;\n",
              "            });\n",
              "            }\n",
              "            loadScript(\"https://cdn.jsdelivr.net/npm/postmate/build/postmate.min.js\").then(() => {\n",
              "            const iframe = document.createElement('iframe')\n",
              "            iframe.style.cssText = \"width:0;height:0;border:none\"\n",
              "            document.body.appendChild(iframe)\n",
              "            const handshake = new Postmate({\n",
              "                container: iframe,\n",
              "                url: 'https://wandb.ai/authorize'\n",
              "            });\n",
              "            const timeout = setTimeout(() => reject(\"Couldn't auto authenticate\"), 5000)\n",
              "            handshake.then(function(child) {\n",
              "                child.on('authorize', data => {\n",
              "                    clearTimeout(timeout)\n",
              "                    resolve(data)\n",
              "                });\n",
              "            });\n",
              "            })\n",
              "        });\n",
              "    "
            ]
          },
          "metadata": {}
        },
        {
          "output_type": "stream",
          "name": "stderr",
          "text": [
            "\u001b[34m\u001b[1mwandb\u001b[0m: Appending key for api.wandb.ai to your netrc file: /root/.netrc\n"
          ]
        },
        {
          "output_type": "execute_result",
          "data": {
            "text/plain": [
              "True"
            ]
          },
          "metadata": {},
          "execution_count": 3
        }
      ],
      "source": [
        "import wandb\n",
        "wandb.login()"
      ]
    },
    {
      "cell_type": "markdown",
      "metadata": {
        "id": "USlOlxKzqod3"
      },
      "source": [
        "# Project Name"
      ]
    },
    {
      "cell_type": "code",
      "execution_count": 4,
      "metadata": {
        "colab": {
          "base_uri": "https://localhost:8080/",
          "height": 88
        },
        "id": "RBqafLJzc9Ws",
        "outputId": "ba1d5b10-d86d-44a8-8ccc-6141c5f55254"
      },
      "outputs": [
        {
          "output_type": "stream",
          "name": "stderr",
          "text": [
            "\u001b[34m\u001b[1mwandb\u001b[0m: Currently logged in as: \u001b[33mhukkwon\u001b[0m. Use \u001b[1m`wandb login --relogin`\u001b[0m to force relogin\n"
          ]
        },
        {
          "output_type": "display_data",
          "data": {
            "text/plain": [
              "<IPython.core.display.HTML object>"
            ],
            "text/html": [
              "Tracking run with wandb version 0.13.3"
            ]
          },
          "metadata": {}
        },
        {
          "output_type": "display_data",
          "data": {
            "text/plain": [
              "<IPython.core.display.HTML object>"
            ],
            "text/html": [
              "Run data is saved locally in <code>/content/wandb/run-20220909_021538-9adj1rhk</code>"
            ]
          },
          "metadata": {}
        },
        {
          "output_type": "display_data",
          "data": {
            "text/plain": [
              "<IPython.core.display.HTML object>"
            ],
            "text/html": [
              "Syncing run <strong><a href=\"https://wandb.ai/hukkwon/Efficient_b2/runs/9adj1rhk\" target=\"_blank\">clean-elevator-10</a></strong> to <a href=\"https://wandb.ai/hukkwon/Efficient_b2\" target=\"_blank\">Weights & Biases</a> (<a href=\"https://wandb.me/run\" target=\"_blank\">docs</a>)<br/>"
            ]
          },
          "metadata": {}
        }
      ],
      "source": [
        "from fastai.callback.wandb import *\n",
        "\n",
        "# start logging a wandb run\n",
        "wandb.init(project='Efficient_b2')\n",
        "wandb.run.name = 'conv_origin_768_r2_binary_monitor_dice_th'"
      ]
    },
    {
      "cell_type": "markdown",
      "metadata": {
        "id": "Oj6ydp4tNpoH"
      },
      "source": [
        "# Load Dataset"
      ]
    },
    {
      "cell_type": "code",
      "execution_count": null,
      "metadata": {
        "id": "PaD4GHedqod4"
      },
      "outputs": [],
      "source": [
        "# ## dataset ids\n",
        "# 1TR148ijIX14wQd1gqbwlH22aNsDKs7VN # conv_origin_768_r2_binary_dataset\n",
        "# 1-NLrY-QEuF_VEBTMerK-K8VjWxJ-Xiac # conv_origin_768_r1_binary_dataset\n",
        "# 1-KPxOC-9yvG9IYf9C3zsRMS8aZ2xeSl5 # conv_origin_512_r2_binary_dataset\n",
        "# 1-EgqXvM6qZ8ZR8AzfKWrX0VvWSswU5yI # conv_origin_512_r1_binary_dataset\n",
        "# 1-CC95xAHijLAybbXzNg-W7QQgARBcdex # conv_2048crop_768_r1_binary_dataset\n",
        "# 1-BiE2_nr6nWFqa6tr6EguEw2UETS6PuU # conv_2048crop_512_r2_binary_dataset\n",
        "# 1-8-PVIUxsqeXgGrnrcSbSMUOmvL7NJWs # conv_2048crop_512_r1_binary_dataset"
      ]
    },
    {
      "cell_type": "code",
      "execution_count": null,
      "metadata": {
        "id": "40OUsC2FNo7K"
      },
      "outputs": [],
      "source": [
        "# dataset\n",
        "!gdown 1TR148ijIX14wQd1gqbwlH22aNsDKs7VN\n",
        "!unzip ./conv_origin_768_r2_binary_dataset.zip"
      ]
    },
    {
      "cell_type": "code",
      "execution_count": 6,
      "metadata": {
        "colab": {
          "base_uri": "https://localhost:8080/"
        },
        "id": "jF7rODpLOFx6",
        "outputId": "e7d541f8-c741-4f3c-8f5b-a909edcccaf0"
      },
      "outputs": [
        {
          "output_type": "stream",
          "name": "stdout",
          "text": [
            "Downloading...\n",
            "From: https://drive.google.com/uc?id=1CYzwew45Tuzs1w0oNbraDT4F8RoMlq1O\n",
            "To: /content/train.csv\n",
            "100% 16.4M/16.4M [00:00<00:00, 75.4MB/s]\n"
          ]
        }
      ],
      "source": [
        "# train csv\n",
        "!gdown 1CYzwew45Tuzs1w0oNbraDT4F8RoMlq1O"
      ]
    },
    {
      "cell_type": "code",
      "execution_count": 7,
      "metadata": {
        "colab": {
          "base_uri": "https://localhost:8080/"
        },
        "id": "Ubd_vAGyOxu2",
        "outputId": "221af0e6-6fd4-4f89-c5d3-709acef51dd2"
      },
      "outputs": [
        {
          "output_type": "stream",
          "name": "stdout",
          "text": [
            "Downloading...\n",
            "From: https://drive.google.com/uc?id=1Sn2pPVCUz2dpzHB935ai-CU9UmTZDyxp\n",
            "To: /content/encoder.zip\n",
            "100% 720M/720M [00:07<00:00, 102MB/s]\n",
            "Archive:  ./encoder.zip\n",
            "  inflating: ./encoder/efficientnet-b0-08094119.pth  \n",
            "  inflating: ./encoder/efficientnet-b1-dbc7070a.pth  \n",
            "  inflating: ./encoder/efficientnet-b2-27687264.pth  \n",
            "  inflating: ./encoder/efficientnet-b3-c8376fa2.pth  \n",
            "  inflating: ./encoder/efficientnet-b4-e116e8b3.pth  \n",
            "  inflating: ./encoder/efficientnet-b5-586e6cc6.pth  \n",
            "  inflating: ./encoder/efficientnet-b6-c76e70fd.pth  \n",
            "  inflating: ./encoder/efficientnet-b7-dcc49843.pth  \n"
          ]
        }
      ],
      "source": [
        "# b0 ~ b7\n",
        "!gdown 1Sn2pPVCUz2dpzHB935ai-CU9UmTZDyxp\n",
        "!unzip ./encoder.zip -d ./encoder"
      ]
    },
    {
      "cell_type": "markdown",
      "metadata": {
        "id": "7r6EnfywNUzw"
      },
      "source": [
        "# Import"
      ]
    },
    {
      "cell_type": "code",
      "execution_count": 8,
      "metadata": {
        "_cell_guid": "b1076dfc-b9ad-4769-8c92-a6c4dae69d19",
        "_kg_hide-input": true,
        "_uuid": "8f2839f25d086af736a60e9eeb907d3b93b6e0e5",
        "execution": {
          "iopub.execute_input": "2022-07-11T10:53:34.269268Z",
          "iopub.status.busy": "2022-07-11T10:53:34.261470Z",
          "iopub.status.idle": "2022-07-11T10:53:37.513442Z",
          "shell.execute_reply": "2022-07-11T10:53:37.512849Z",
          "shell.execute_reply.started": "2022-07-11T10:52:12.245706Z"
        },
        "id": "QRjqKvvFLBcV",
        "papermill": {
          "duration": 3.273853,
          "end_time": "2022-07-11T10:53:37.513569",
          "exception": false,
          "start_time": "2022-07-11T10:53:34.239716",
          "status": "completed"
        },
        "tags": []
      },
      "outputs": [],
      "source": [
        "%reload_ext autoreload\n",
        "%autoreload 2\n",
        "%matplotlib inline\n",
        "\n",
        "from fastai.vision.all import *\n",
        "from torch.utils.data import Dataset, DataLoader\n",
        "import pandas as pd\n",
        "import numpy as np\n",
        "import os\n",
        "import cv2\n",
        "import gc\n",
        "import random\n",
        "from albumentations import *\n",
        "from sklearn.model_selection import KFold\n",
        "import matplotlib.pyplot as plt\n",
        "from lovasz import lovasz_hinge\n",
        "import rasterio\n",
        "from rasterio.windows import Window\n",
        "from tqdm.notebook import tqdm\n",
        "\n",
        "from PIL import Image\n",
        "import tifffile as tiff\n",
        "\n",
        "import warnings\n",
        "warnings.filterwarnings(\"ignore\")"
      ]
    },
    {
      "cell_type": "markdown",
      "metadata": {
        "id": "dkZIvLJvqod7"
      },
      "source": [
        "# Parameter & Etc.."
      ]
    },
    {
      "cell_type": "code",
      "execution_count": 9,
      "metadata": {
        "execution": {
          "iopub.execute_input": "2022-07-11T10:53:37.547261Z",
          "iopub.status.busy": "2022-07-11T10:53:37.546418Z",
          "iopub.status.idle": "2022-07-11T10:53:37.578319Z",
          "shell.execute_reply": "2022-07-11T10:53:37.578719Z",
          "shell.execute_reply.started": "2022-07-11T10:52:12.330346Z"
        },
        "id": "5-AdR0C2LBcW",
        "papermill": {
          "duration": 0.049315,
          "end_time": "2022-07-11T10:53:37.578835",
          "exception": false,
          "start_time": "2022-07-11T10:53:37.529520",
          "status": "completed"
        },
        "tags": []
      },
      "outputs": [],
      "source": [
        "dataset_name = 'conv_2048crop_512_r1_binary'\n",
        "head_epochs = 5\n",
        "full_epochs = 50\n",
        "lr_max = 0.5e-2\n",
        "lr_slice = slice(2e-4,2e-3)\n",
        "bs = 4\n",
        "nfolds = 4\n",
        "fold = 0\n",
        "SEED = 2020\n",
        "TRAIN = '/content/conv_768_r2_dataset/images/'\n",
        "MASKS = '/content/conv_768_r2_dataset/masks/'\n",
        "LABELS = './train.csv'\n",
        "NUM_WORKERS = 4\n",
        "mean = np.array([0.78054955,  0.7566257, 0.7735184]) \n",
        "std = np.array([0.25334089, 0.26656769, 0.26202731])"
      ]
    },
    {
      "cell_type": "code",
      "execution_count": 10,
      "metadata": {
        "_kg_hide-input": true,
        "execution": {
          "iopub.execute_input": "2022-07-11T10:53:37.629067Z",
          "iopub.status.busy": "2022-07-11T10:53:37.628259Z",
          "iopub.status.idle": "2022-07-11T10:53:37.675797Z",
          "shell.execute_reply": "2022-07-11T10:53:37.675366Z",
          "shell.execute_reply.started": "2022-07-11T10:52:12.393380Z"
        },
        "id": "qC9W2Wt8LBcX",
        "papermill": {
          "duration": 0.079778,
          "end_time": "2022-07-11T10:53:37.675896",
          "exception": false,
          "start_time": "2022-07-11T10:53:37.596118",
          "status": "completed"
        },
        "tags": []
      },
      "outputs": [],
      "source": [
        "def seed_everything(seed):\n",
        "    random.seed(seed)\n",
        "    os.environ['PYTHONHASHSEED'] = str(seed)\n",
        "    np.random.seed(seed)\n",
        "    torch.manual_seed(seed)\n",
        "    torch.cuda.manual_seed(seed)\n",
        "    torch.backends.cudnn.deterministic = True\n",
        "    #the following line gives ~10% speedup\n",
        "    #but may lead to some stochasticity in the results \n",
        "    torch.backends.cudnn.benchmark = True\n",
        "    \n",
        "seed_everything(SEED)"
      ]
    },
    {
      "cell_type": "markdown",
      "metadata": {
        "id": "9l6zCEthNc4_"
      },
      "source": [
        "# Data preprocessing"
      ]
    },
    {
      "cell_type": "code",
      "execution_count": 11,
      "metadata": {
        "execution": {
          "iopub.execute_input": "2022-07-11T10:53:37.745829Z",
          "iopub.status.busy": "2022-07-11T10:53:37.745009Z",
          "iopub.status.idle": "2022-07-11T10:53:37.796248Z",
          "shell.execute_reply": "2022-07-11T10:53:37.795545Z",
          "shell.execute_reply.started": "2022-07-11T10:52:12.458964Z"
        },
        "id": "iIysNh_2LBcY",
        "papermill": {
          "duration": 0.079163,
          "end_time": "2022-07-11T10:53:37.796393",
          "exception": false,
          "start_time": "2022-07-11T10:53:37.717230",
          "status": "completed"
        },
        "tags": []
      },
      "outputs": [],
      "source": [
        "# # https://www.kaggle.com/iafoss/256x256-images\n",
        "# mean = np.array([0.65459856,0.48386562,0.69428385])\n",
        "# std = np.array([0.15167958,0.23584107,0.13146145])\n",
        "\n",
        "\n",
        "# https://www.kaggle.com/datasets/thedevastator/hubmap-2022-256x256\n",
        "# mean = mean\n",
        "# std = std\n",
        "\n",
        "def img2tensor(img,dtype:np.dtype=np.float32):\n",
        "    if img.ndim==2 : img = np.expand_dims(img,2)\n",
        "    img = np.transpose(img,(2,0,1))\n",
        "    return torch.from_numpy(img.astype(dtype, copy=False))\n",
        "\n",
        "\n",
        "\n",
        "class HuBMAPDataset(Dataset):\n",
        "    def __init__(self, fold=fold, train=True, tfms=None):\n",
        "        ids = pd.read_csv(LABELS).id.astype(str).values\n",
        "        kf = KFold(n_splits=nfolds,random_state=SEED,shuffle=True)\n",
        "        ids = set(ids[list(kf.split(ids))[fold][0 if train else 1]])\n",
        "        self.fnames = [fname for fname in os.listdir(TRAIN) if fname.split('_')[0] in ids]\n",
        "        self.train = train\n",
        "        self.tfms = tfms\n",
        "        \n",
        "    def __len__(self):\n",
        "        return len(self.fnames)\n",
        "    \n",
        "    def __getitem__(self, idx):\n",
        "        fname = self.fnames[idx]\n",
        "        img = cv2.cvtColor(cv2.imread(os.path.join(TRAIN,fname)), cv2.COLOR_BGR2RGB)\n",
        "        mask = cv2.imread(os.path.join(MASKS,fname),cv2.IMREAD_GRAYSCALE)\n",
        "        if self.tfms is not None:\n",
        "            augmented = self.tfms(image=img,mask=mask)\n",
        "            img,mask = augmented['image'],augmented['mask']\n",
        "        return img2tensor((img/255.0 - mean)/std),img2tensor(mask)\n",
        "    \n",
        "\n",
        "\n",
        "# version 1 0.65 version\n",
        "def get_aug(p=1.0):\n",
        "    return Compose([\n",
        "        HorizontalFlip(p=0.5),\n",
        "        VerticalFlip(),\n",
        "        RandomRotate90(p=1),\n",
        "        #Morphology\n",
        "        ShiftScaleRotate(shift_limit=0, scale_limit=(-0.2,0.2), rotate_limit=(-30,30), \n",
        "                         interpolation=1, border_mode=0, value=(0,0,0), p=0.5),\n",
        "        GaussNoise(var_limit=(0,50.0), mean=0, p=0.5),\n",
        "        GaussianBlur(blur_limit=(3,7), p=0.5),\n",
        "        #Color\n",
        "        RandomBrightnessContrast(brightness_limit=0.35, contrast_limit=0.5, \n",
        "                                 brightness_by_max=True,p=0.5),\n",
        "        HueSaturationValue(hue_shift_limit=30, sat_shift_limit=30, \n",
        "                           val_shift_limit=0, p=0.5),\n",
        "        OneOf([\n",
        "            OpticalDistortion(p=0.3),\n",
        "            GridDistortion(p=.1),\n",
        "            IAAPiecewiseAffine(p=0.3),\n",
        "        ], p=0.3),\n",
        "    ], p=p)"
      ]
    },
    {
      "cell_type": "code",
      "execution_count": null,
      "metadata": {
        "execution": {
          "iopub.execute_input": "2022-07-11T10:53:37.843790Z",
          "iopub.status.busy": "2022-07-11T10:53:37.842799Z",
          "iopub.status.idle": "2022-07-11T10:53:50.138757Z",
          "shell.execute_reply": "2022-07-11T10:53:50.139191Z",
          "shell.execute_reply.started": "2022-07-11T10:52:12.538019Z"
        },
        "id": "ZxUb1IdmLBcZ",
        "papermill": {
          "duration": 12.318961,
          "end_time": "2022-07-11T10:53:50.139316",
          "exception": false,
          "start_time": "2022-07-11T10:53:37.820355",
          "status": "completed"
        },
        "tags": []
      },
      "outputs": [],
      "source": [
        "# #example of train images with masks\n",
        "# ds = HuBMAPDataset(tfms=get_aug())\n",
        "# dl = DataLoader(ds,batch_size=64,shuffle=False,num_workers=NUM_WORKERS)\n",
        "# imgs,masks = next(iter(dl))\n",
        "\n",
        "# plt.figure(figsize=(16,16))\n",
        "# for i,(img,mask) in enumerate(zip(imgs,masks)):\n",
        "#     img = ((img.permute(1,2,0)*std + mean)*255.0).numpy().astype(np.uint8)\n",
        "#     plt.subplot(8,8,i+1)\n",
        "#     plt.imshow(img,vmin=0,vmax=255)\n",
        "#     plt.imshow(mask.squeeze().numpy(), alpha=0.2)\n",
        "#     plt.axis('off')\n",
        "#     plt.subplots_adjust(wspace=None, hspace=None)\n",
        "    \n",
        "# del ds,dl,imgs,masks"
      ]
    },
    {
      "cell_type": "markdown",
      "metadata": {
        "id": "jiL6bphZOPrS"
      },
      "source": [
        "# Model - EfficientUnet"
      ]
    },
    {
      "cell_type": "code",
      "execution_count": 12,
      "metadata": {
        "_kg_hide-input": true,
        "execution": {
          "iopub.execute_input": "2022-07-11T10:53:50.369406Z",
          "iopub.status.busy": "2022-07-11T10:53:50.368449Z",
          "iopub.status.idle": "2022-07-11T10:53:50.415034Z",
          "shell.execute_reply": "2022-07-11T10:53:50.414364Z",
          "shell.execute_reply.started": "2022-07-11T10:52:24.692974Z"
        },
        "id": "cp-3ExlkLBcb",
        "papermill": {
          "duration": 0.105333,
          "end_time": "2022-07-11T10:53:50.415133",
          "exception": false,
          "start_time": "2022-07-11T10:53:50.309800",
          "status": "completed"
        },
        "tags": []
      },
      "outputs": [],
      "source": [
        "class FPN(nn.Module):\n",
        "    def __init__(self, input_channels:list, output_channels:list):\n",
        "        super().__init__()\n",
        "        self.convs = nn.ModuleList(\n",
        "            [nn.Sequential(nn.Conv2d(in_ch, out_ch*2, kernel_size=3, padding=1),\n",
        "             nn.ReLU(inplace=True), nn.BatchNorm2d(out_ch*2),\n",
        "             nn.Conv2d(out_ch*2, out_ch, kernel_size=3, padding=1))\n",
        "            for in_ch, out_ch in zip(input_channels, output_channels)])\n",
        "        \n",
        "    def forward(self, xs:list, last_layer):\n",
        "        hcs = [F.interpolate(c(x),scale_factor=2**(len(self.convs)-i),mode='bilinear') \n",
        "               for i,(c,x) in enumerate(zip(self.convs, xs))]\n",
        "        hcs.append(last_layer)\n",
        "        return torch.cat(hcs, dim=1)\n",
        "\n",
        "class UnetBlock(Module):\n",
        "    def __init__(self, up_in_c:int, x_in_c:int, nf:int=None, blur:bool=False,\n",
        "                 self_attention:bool=False, **kwargs):\n",
        "        super().__init__()\n",
        "        self.shuf = PixelShuffle_ICNR(up_in_c, up_in_c//2, blur=blur, **kwargs)\n",
        "        self.bn = nn.BatchNorm2d(x_in_c)\n",
        "        ni = up_in_c//2 + x_in_c\n",
        "        nf = nf if nf is not None else max(up_in_c//2,32)\n",
        "        self.conv1 = ConvLayer(ni, nf, norm_type=None, **kwargs)\n",
        "        self.conv2 = ConvLayer(nf, nf, norm_type=None,\n",
        "            xtra=SelfAttention(nf) if self_attention else None, **kwargs)\n",
        "        self.relu = nn.ReLU(inplace=True)\n",
        "\n",
        "    def forward(self, up_in:Tensor, left_in:Tensor) -> Tensor:\n",
        "        s = left_in\n",
        "        up_out = self.shuf(up_in)\n",
        "        cat_x = self.relu(torch.cat([up_out, self.bn(s)], dim=1))\n",
        "        return self.conv2(self.conv1(cat_x))\n",
        "        \n",
        "class _ASPPModule(nn.Module):\n",
        "    def __init__(self, inplanes, planes, kernel_size, padding, dilation, groups=1):\n",
        "        super().__init__()\n",
        "        self.atrous_conv = nn.Conv2d(inplanes, planes, kernel_size=kernel_size,\n",
        "                stride=1, padding=padding, dilation=dilation, bias=False, groups=groups)\n",
        "        self.bn = nn.BatchNorm2d(planes)\n",
        "        self.relu = nn.ReLU()\n",
        "\n",
        "        self._init_weight()\n",
        "\n",
        "    def forward(self, x):\n",
        "        x = self.atrous_conv(x)\n",
        "        x = self.bn(x)\n",
        "\n",
        "        return self.relu(x)\n",
        "\n",
        "    def _init_weight(self):\n",
        "        for m in self.modules():\n",
        "            if isinstance(m, nn.Conv2d):\n",
        "                torch.nn.init.kaiming_normal_(m.weight)\n",
        "            elif isinstance(m, nn.BatchNorm2d):\n",
        "                m.weight.data.fill_(1)\n",
        "                m.bias.data.zero_()\n",
        "\n",
        "class ASPP(nn.Module):\n",
        "    def __init__(self, inplanes=512, mid_c=256, dilations=[6, 12, 18, 24], out_c=None):\n",
        "        super().__init__()\n",
        "        self.aspps = [_ASPPModule(inplanes, mid_c, 1, padding=0, dilation=1)] + \\\n",
        "            [_ASPPModule(inplanes, mid_c, 3, padding=d, dilation=d,groups=4) for d in dilations]\n",
        "        self.aspps = nn.ModuleList(self.aspps)\n",
        "        self.global_pool = nn.Sequential(nn.AdaptiveMaxPool2d((1, 1)),\n",
        "                        nn.Conv2d(inplanes, mid_c, 1, stride=1, bias=False),\n",
        "                        nn.BatchNorm2d(mid_c), nn.ReLU())\n",
        "        out_c = out_c if out_c is not None else mid_c\n",
        "        self.out_conv = nn.Sequential(nn.Conv2d(mid_c*(2+len(dilations)), out_c, 1, bias=False),\n",
        "                                    nn.BatchNorm2d(out_c), nn.ReLU(inplace=True))\n",
        "        self.conv1 = nn.Conv2d(mid_c*(2+len(dilations)), out_c, 1, bias=False)\n",
        "        self._init_weight()\n",
        "\n",
        "    def forward(self, x):\n",
        "        x0 = self.global_pool(x)\n",
        "        xs = [aspp(x) for aspp in self.aspps]\n",
        "        x0 = F.interpolate(x0, size=xs[0].size()[2:], mode='bilinear', align_corners=True)\n",
        "        x = torch.cat([x0] + xs, dim=1)\n",
        "        return self.out_conv(x)\n",
        "    \n",
        "    def _init_weight(self):\n",
        "        for m in self.modules():\n",
        "            if isinstance(m, nn.Conv2d):\n",
        "                torch.nn.init.kaiming_normal_(m.weight)\n",
        "            elif isinstance(m, nn.BatchNorm2d):\n",
        "                m.weight.data.fill_(1)\n",
        "                m.bias.data.zero_()"
      ]
    },
    {
      "cell_type": "code",
      "execution_count": 13,
      "metadata": {
        "execution": {
          "iopub.execute_input": "2022-07-11T10:53:50.491508Z",
          "iopub.status.busy": "2022-07-11T10:53:50.490243Z",
          "iopub.status.idle": "2022-07-11T10:53:50.526354Z",
          "shell.execute_reply": "2022-07-11T10:53:50.525905Z",
          "shell.execute_reply.started": "2022-07-11T10:52:24.801131Z"
        },
        "id": "kzh0PIWqLBcb",
        "papermill": {
          "duration": 0.077848,
          "end_time": "2022-07-11T10:53:50.526456",
          "exception": false,
          "start_time": "2022-07-11T10:53:50.448608",
          "status": "completed"
        },
        "tags": []
      },
      "outputs": [],
      "source": [
        "pretrained_root = './encoder/'\n",
        "efficient_net_encoders = {\n",
        "    \"efficientnet-b0\": {\n",
        "        \"out_channels\": (3, 32, 24, 40, 112, 320),\n",
        "        \"stage_idxs\": (3, 5, 9, 16),\n",
        "        \"weight_path\": pretrained_root + \"efficientnet-b0-08094119.pth\"\n",
        "    },\n",
        "    \"efficientnet-b1\": {\n",
        "        \"out_channels\": (3, 32, 24, 40, 112, 320),\n",
        "        \"stage_idxs\": (5, 8, 16, 23),\n",
        "        \"weight_path\": pretrained_root + \"efficientnet-b1-dbc7070a.pth\"\n",
        "    },\n",
        "    \"efficientnet-b2\": {\n",
        "        \"out_channels\": (3, 32, 24, 48, 120, 352),\n",
        "        \"stage_idxs\": (5, 8, 16, 23),\n",
        "        \"weight_path\": pretrained_root + \"efficientnet-b2-27687264.pth\"\n",
        "    },\n",
        "    \"efficientnet-b3\": {\n",
        "        \"out_channels\": (3, 40, 32, 48, 136, 384),\n",
        "        \"stage_idxs\": (5, 8, 18, 26),\n",
        "        \"weight_path\": pretrained_root + \"efficientnet-b3-c8376fa2.pth\"\n",
        "    },\n",
        "    \"efficientnet-b4\": {\n",
        "        \"out_channels\": (3, 48, 32, 56, 160, 448),\n",
        "        \"stage_idxs\": (6, 10, 22, 32),\n",
        "        \"weight_path\": pretrained_root + \"efficientnet-b4-e116e8b3.pth\"\n",
        "    },\n",
        "    \"efficientnet-b5\": {\n",
        "        \"out_channels\": (3, 48, 40, 64, 176, 512),\n",
        "        \"stage_idxs\": (8, 13, 27, 39),\n",
        "        \"weight_path\": pretrained_root + \"efficientnet-b5-586e6cc6.pth\"\n",
        "    },\n",
        "    \"efficientnet-b6\": {\n",
        "        \"out_channels\": (3, 56, 40, 72, 200, 576),\n",
        "        \"stage_idxs\": (9, 15, 31, 45),\n",
        "        \"weight_path\": pretrained_root + \"efficientnet-b6-c76e70fd.pth\"\n",
        "    },\n",
        "    \"efficientnet-b7\": {\n",
        "        \"out_channels\": (3, 64, 48, 80, 224, 640),\n",
        "        \"stage_idxs\": (11, 18, 38, 55),\n",
        "        \"weight_path\": pretrained_root + \"efficientnet-b7-dcc49843.pth\"\n",
        "    }\n",
        "}"
      ]
    },
    {
      "cell_type": "code",
      "execution_count": 14,
      "metadata": {
        "execution": {
          "iopub.execute_input": "2022-07-11T10:53:50.608110Z",
          "iopub.status.busy": "2022-07-11T10:53:50.607142Z",
          "iopub.status.idle": "2022-07-11T10:53:50.730609Z",
          "shell.execute_reply": "2022-07-11T10:53:50.731660Z",
          "shell.execute_reply.started": "2022-07-11T10:52:24.877521Z"
        },
        "id": "Tjd_aRsxLBcc",
        "papermill": {
          "duration": 0.17098,
          "end_time": "2022-07-11T10:53:50.731835",
          "exception": false,
          "start_time": "2022-07-11T10:53:50.560855",
          "status": "completed"
        },
        "tags": []
      },
      "outputs": [],
      "source": [
        "import sys\n",
        "# sys.path.insert(0, '../input/efficientnet-pytorch/EfficientNet-PyTorch/EfficientNet-PyTorch-master')\n",
        "\n",
        "from efficientnet_pytorch import EfficientNet\n",
        "from efficientnet_pytorch.utils import url_map, url_map_advprop, get_model_params\n",
        "\n",
        "\n",
        "class EfficientNetEncoder(EfficientNet):\n",
        "    def __init__(self, stage_idxs, out_channels, model_name, depth=5):\n",
        "\n",
        "        blocks_args, global_params = get_model_params(model_name, override_params=None)\n",
        "        super().__init__(blocks_args, global_params)\n",
        "        \n",
        "        cfg = efficient_net_encoders[model_name]\n",
        "\n",
        "        self._stage_idxs = stage_idxs\n",
        "        self._out_channels = out_channels\n",
        "        self._depth = depth\n",
        "        self._in_channels = 3\n",
        "\n",
        "        del self._fc\n",
        "        self.load_state_dict(torch.load(cfg['weight_path']))\n",
        "\n",
        "    def get_stages(self):\n",
        "        return [\n",
        "            nn.Identity(),\n",
        "            nn.Sequential(self._conv_stem, self._bn0, self._swish),\n",
        "            self._blocks[:self._stage_idxs[0]],\n",
        "            self._blocks[self._stage_idxs[0]:self._stage_idxs[1]],\n",
        "            self._blocks[self._stage_idxs[1]:self._stage_idxs[2]],\n",
        "            self._blocks[self._stage_idxs[2]:],\n",
        "        ]\n",
        "\n",
        "    def forward(self, x):\n",
        "        stages = self.get_stages()\n",
        "\n",
        "        block_number = 0.\n",
        "        drop_connect_rate = self._global_params.drop_connect_rate\n",
        "\n",
        "        features = []\n",
        "        for i in range(self._depth + 1):\n",
        "\n",
        "            # Identity and Sequential stages\n",
        "            if i < 2:\n",
        "                x = stages[i](x)\n",
        "\n",
        "            # Block stages need drop_connect rate\n",
        "            else:\n",
        "                for module in stages[i]:\n",
        "                    drop_connect = drop_connect_rate * block_number / len(self._blocks)\n",
        "                    block_number += 1.\n",
        "                    x = module(x, drop_connect)\n",
        "\n",
        "            features.append(x)\n",
        "\n",
        "        return features\n",
        "\n",
        "    def load_state_dict(self, state_dict, **kwargs):\n",
        "        state_dict.pop(\"_fc.bias\")\n",
        "        state_dict.pop(\"_fc.weight\")\n",
        "        super().load_state_dict(state_dict, **kwargs)  \n",
        "        \n",
        "\n",
        "class EffUnet(nn.Module):\n",
        "    def __init__(self, model_name, stride=1):\n",
        "        super().__init__()\n",
        "        \n",
        "        cfg = efficient_net_encoders[model_name]\n",
        "        stage_idxs = cfg['stage_idxs']\n",
        "        out_channels = cfg['out_channels']\n",
        "        \n",
        "        self.encoder = EfficientNetEncoder(stage_idxs, out_channels, model_name)\n",
        "\n",
        "        #aspp with customized dilatations\n",
        "        self.aspp = ASPP(out_channels[-1], 256, out_c=384, \n",
        "                         dilations=[stride*1, stride*2, stride*3, stride*4])\n",
        "        # self.drop_aspp = nn.Dropout2d(0.5)\n",
        "        #decoder\n",
        "        self.dec4 = UnetBlock(384, out_channels[-2], 256)\n",
        "        self.dec3 = UnetBlock(256, out_channels[-3], 128)\n",
        "        self.dec2 = UnetBlock(128, out_channels[-4], 64)\n",
        "        self.dec1 = UnetBlock(64, out_channels[-5], 32)\n",
        "        self.fpn = FPN([384, 256, 128, 64], [16]*4)\n",
        "        # self.drop = nn.Dropout2d(0.1)\n",
        "        self.final_conv = ConvLayer(32+16*4, 1, ks=1, norm_type=None, act_cls=None)\n",
        "        \n",
        "    def forward(self, x):\n",
        "        enc0, enc1, enc2, enc3, enc4 = self.encoder(x)[-5:]\n",
        "        enc5 = self.aspp(enc4)\n",
        "        # dec3 = self.dec4(self.drop_aspp(enc5), enc3)\n",
        "        dec3 = self.dec4(enc5, enc3)\n",
        "        dec2 = self.dec3(dec3,enc2)\n",
        "        dec1 = self.dec2(dec2,enc1)\n",
        "        dec0 = self.dec1(dec1,enc0)\n",
        "        x = self.fpn([enc5, dec3, dec2, dec1], dec0)\n",
        "        # x = self.final_conv(self.drop(x))\n",
        "        x = self.final_conv(x)\n",
        "        x = F.interpolate(x,scale_factor=2,mode='bilinear')\n",
        "        return x\n",
        "    \n",
        "#split the model to encoder and decoder for fast.ai\n",
        "split_layers = lambda m: [\n",
        "                list(m.encoder.parameters()),\n",
        "                list(m.aspp.parameters())+list(m.dec4.parameters())+\n",
        "                list(m.dec3.parameters())+list(m.dec2.parameters())+\n",
        "                list(m.dec1.parameters())+list(m.fpn.parameters())+\n",
        "                list(m.final_conv.parameters())\n",
        "            ]"
      ]
    },
    {
      "cell_type": "markdown",
      "metadata": {
        "id": "j3UHaDk9S-hg"
      },
      "source": [
        "# Loss & Metrics"
      ]
    },
    {
      "cell_type": "code",
      "execution_count": 15,
      "metadata": {
        "execution": {
          "iopub.execute_input": "2022-07-11T10:53:50.979241Z",
          "iopub.status.busy": "2022-07-11T10:53:50.978427Z",
          "iopub.status.idle": "2022-07-11T10:53:51.026952Z",
          "shell.execute_reply": "2022-07-11T10:53:51.027537Z",
          "shell.execute_reply.started": "2022-07-11T10:52:25.018496Z"
        },
        "id": "zSYdhs5fLBcd",
        "papermill": {
          "duration": 0.114857,
          "end_time": "2022-07-11T10:53:51.027666",
          "exception": false,
          "start_time": "2022-07-11T10:53:50.912809",
          "status": "completed"
        },
        "tags": []
      },
      "outputs": [],
      "source": [
        "def symmetric_lovasz(outputs, targets):\n",
        "    return 0.5*(lovasz_hinge(outputs, targets) + lovasz_hinge(-outputs, 1.0 - targets))"
      ]
    },
    {
      "cell_type": "code",
      "execution_count": 16,
      "metadata": {
        "execution": {
          "iopub.execute_input": "2022-07-11T10:53:51.161355Z",
          "iopub.status.busy": "2022-07-11T10:53:51.160548Z",
          "iopub.status.idle": "2022-07-11T10:53:51.210238Z",
          "shell.execute_reply": "2022-07-11T10:53:51.209302Z",
          "shell.execute_reply.started": "2022-07-11T10:52:25.084459Z"
        },
        "id": "zgfyZp37LBcd",
        "papermill": {
          "duration": 0.121904,
          "end_time": "2022-07-11T10:53:51.210349",
          "exception": false,
          "start_time": "2022-07-11T10:53:51.088445",
          "status": "completed"
        },
        "tags": []
      },
      "outputs": [],
      "source": [
        "class Dice_soft(Metric):\n",
        "    def __init__(self, axis=1): \n",
        "        self.axis = axis \n",
        "    def reset(self): self.inter,self.union = 0,0\n",
        "    def accumulate(self, learn):\n",
        "        pred,targ = flatten_check(torch.sigmoid(learn.pred), learn.y)\n",
        "        self.inter += (pred*targ).float().sum().item()\n",
        "        self.union += (pred+targ).float().sum().item()\n",
        "    @property\n",
        "    def value(self): return 2.0 * self.inter/self.union if self.union > 0 else None\n",
        "    \n",
        "# dice with automatic threshold selection\n",
        "class Dice_th(Metric):\n",
        "    def __init__(self, ths=np.arange(0.1,0.9,0.05), axis=1): \n",
        "        self.axis = axis\n",
        "        self.ths = ths\n",
        "        \n",
        "    def reset(self): \n",
        "        self.inter = torch.zeros(len(self.ths))\n",
        "        self.union = torch.zeros(len(self.ths))\n",
        "        \n",
        "    def accumulate(self, learn):\n",
        "        pred,targ = flatten_check(torch.sigmoid(learn.pred), learn.y)\n",
        "        for i,th in enumerate(self.ths):\n",
        "            p = (pred > th).float()\n",
        "            self.inter[i] += (p*targ).float().sum().item()\n",
        "            self.union[i] += (p+targ).float().sum().item()\n",
        "\n",
        "    @property\n",
        "    def value(self):\n",
        "        dices = torch.where(self.union > 0.0, \n",
        "                2.0*self.inter/self.union, torch.zeros_like(self.union))\n",
        "        return dices.max()"
      ]
    },
    {
      "cell_type": "markdown",
      "metadata": {
        "id": "i2TbdCU2LBcd",
        "papermill": {
          "duration": 0.034181,
          "end_time": "2022-07-11T10:53:51.279426",
          "exception": false,
          "start_time": "2022-07-11T10:53:51.245245",
          "status": "completed"
        },
        "tags": []
      },
      "source": [
        "# Model evaluation"
      ]
    },
    {
      "cell_type": "code",
      "execution_count": 17,
      "metadata": {
        "execution": {
          "iopub.execute_input": "2022-07-11T10:53:51.365330Z",
          "iopub.status.busy": "2022-07-11T10:53:51.364489Z",
          "iopub.status.idle": "2022-07-11T10:53:51.404680Z",
          "shell.execute_reply": "2022-07-11T10:53:51.404174Z",
          "shell.execute_reply.started": "2022-07-11T10:52:25.155738Z"
        },
        "id": "wuF7hyuXLBcd",
        "papermill": {
          "duration": 0.091738,
          "end_time": "2022-07-11T10:53:51.404778",
          "exception": false,
          "start_time": "2022-07-11T10:53:51.313040",
          "status": "completed"
        },
        "tags": []
      },
      "outputs": [],
      "source": [
        "#iterator like wrapper that returns predicted and gt masks\n",
        "class Model_pred:\n",
        "    def __init__(self, model, dl, tta:bool=True, half:bool=False):\n",
        "        self.model = model\n",
        "        self.dl = dl\n",
        "        self.tta = tta\n",
        "        self.half = half\n",
        "        \n",
        "    def __iter__(self):\n",
        "        self.model.eval()\n",
        "        name_list = self.dl.dataset.fnames\n",
        "        count=0\n",
        "        with torch.no_grad():\n",
        "            for x,y in iter(self.dl):\n",
        "                x = x.cuda()\n",
        "                if self.half: x = x.half()\n",
        "                p = self.model(x)\n",
        "                py = torch.sigmoid(p).detach()\n",
        "                if self.tta:\n",
        "                    #x,y,xy flips as TTA\n",
        "                    flips = [[-1],[-2],[-2,-1]]\n",
        "                    for f in flips:\n",
        "                        p = self.model(torch.flip(x,f))\n",
        "                        p = torch.flip(p,f)\n",
        "                        py += torch.sigmoid(p).detach()\n",
        "                    py /= (1+len(flips))\n",
        "                if y is not None and len(y.shape)==4 and py.shape != y.shape:\n",
        "                    py = F.upsample(py, size=(y.shape[-2],y.shape[-1]), mode=\"bilinear\")\n",
        "                py = py.permute(0,2,3,1).float().cpu()\n",
        "                batch_size = len(py)\n",
        "                for i in range(batch_size):\n",
        "                    taget = y[i].detach().cpu() if y is not None else None\n",
        "                    yield py[i],taget,name_list[count]\n",
        "                    count += 1\n",
        "                    \n",
        "    def __len__(self):\n",
        "        return len(self.dl.dataset)\n",
        "    \n",
        "class Dice_th_pred(Metric):\n",
        "    def __init__(self, ths=np.arange(0.1,0.9,0.01), axis=1): \n",
        "        self.axis = axis\n",
        "        self.ths = ths\n",
        "        self.reset()\n",
        "        \n",
        "    def reset(self): \n",
        "        self.inter = torch.zeros(len(self.ths))\n",
        "        self.union = torch.zeros(len(self.ths))\n",
        "        \n",
        "    def accumulate(self,p,t):\n",
        "        pred,targ = flatten_check(p, t)\n",
        "        for i,th in enumerate(self.ths):\n",
        "            p = (pred > th).float()\n",
        "            self.inter[i] += (p*targ).float().sum().item()\n",
        "            self.union[i] += (p+targ).float().sum().item()\n",
        "\n",
        "    @property\n",
        "    def value(self):\n",
        "        dices = torch.where(self.union > 0.0, 2.0*self.inter/self.union, \n",
        "                            torch.zeros_like(self.union))\n",
        "        return dices\n",
        "    \n",
        "def save_img(data,name,out):\n",
        "    data = data.float().cpu().numpy()\n",
        "    img = cv2.imencode('.png',(data*255).astype(np.uint8))[1]\n",
        "    out.writestr(name, img)"
      ]
    },
    {
      "cell_type": "markdown",
      "metadata": {
        "id": "u3ZvuzzbLBce",
        "papermill": {
          "duration": 0.03348,
          "end_time": "2022-07-11T10:53:51.471752",
          "exception": false,
          "start_time": "2022-07-11T10:53:51.438272",
          "status": "completed"
        },
        "tags": []
      },
      "source": [
        "# Train"
      ]
    },
    {
      "cell_type": "code",
      "execution_count": null,
      "metadata": {
        "id": "SLWAv5ghOYcY"
      },
      "outputs": [],
      "source": [
        "# ## callbacks - early stopping, save model\n",
        "# cbs=[EarlyStoppingCallback(monitor='valid_loss', min_delta=0, patience=5),\n",
        "#      SaveModelCallback(monitor='dice_th',comp=np.greater)]"
      ]
    },
    {
      "cell_type": "code",
      "execution_count": 18,
      "metadata": {
        "_kg_hide-output": true,
        "colab": {
          "base_uri": "https://localhost:8080/",
          "height": 1000
        },
        "execution": {
          "iopub.execute_input": "2022-07-11T10:53:51.549040Z",
          "iopub.status.busy": "2022-07-11T10:53:51.548239Z",
          "iopub.status.idle": "2022-07-11T16:10:53.860520Z",
          "shell.execute_reply": "2022-07-11T16:10:53.859449Z"
        },
        "id": "Pk6DoxTJLBce",
        "outputId": "46cd85e0-a2d2-4d1d-9ca2-79f8c3f6b6e8",
        "papermill": {
          "duration": 19022.354735,
          "end_time": "2022-07-11T16:10:53.860657",
          "exception": false,
          "start_time": "2022-07-11T10:53:51.505922",
          "status": "completed"
        },
        "tags": []
      },
      "outputs": [
        {
          "output_type": "stream",
          "name": "stdout",
          "text": [
            "WandbCallback was not able to prepare a DataLoader for logging prediction samples -> 'HuBMAPDataset' object has no attribute 'items'\n"
          ]
        },
        {
          "output_type": "display_data",
          "data": {
            "text/plain": [
              "<IPython.core.display.HTML object>"
            ],
            "text/html": [
              "\n",
              "<style>\n",
              "    /* Turns off some styling */\n",
              "    progress {\n",
              "        /* gets rid of default border in Firefox and Opera. */\n",
              "        border: none;\n",
              "        /* Needs to be in here for Safari polyfill so background images work as expected. */\n",
              "        background-size: auto;\n",
              "    }\n",
              "    progress:not([value]), progress:not([value])::-webkit-progress-bar {\n",
              "        background: repeating-linear-gradient(45deg, #7e7e7e, #7e7e7e 10px, #5c5c5c 10px, #5c5c5c 20px);\n",
              "    }\n",
              "    .progress-bar-interrupted, .progress-bar-interrupted::-webkit-progress-bar {\n",
              "        background: #F44336;\n",
              "    }\n",
              "</style>\n"
            ]
          },
          "metadata": {}
        },
        {
          "output_type": "display_data",
          "data": {
            "text/plain": [
              "<IPython.core.display.HTML object>"
            ],
            "text/html": [
              "<table border=\"1\" class=\"dataframe\">\n",
              "  <thead>\n",
              "    <tr style=\"text-align: left;\">\n",
              "      <th>epoch</th>\n",
              "      <th>train_loss</th>\n",
              "      <th>valid_loss</th>\n",
              "      <th>dice_soft</th>\n",
              "      <th>dice_th</th>\n",
              "      <th>time</th>\n",
              "    </tr>\n",
              "  </thead>\n",
              "  <tbody>\n",
              "    <tr>\n",
              "      <td>0</td>\n",
              "      <td>1.660331</td>\n",
              "      <td>1.638088</td>\n",
              "      <td>0.329085</td>\n",
              "      <td>0.461609</td>\n",
              "      <td>01:45</td>\n",
              "    </tr>\n",
              "    <tr>\n",
              "      <td>1</td>\n",
              "      <td>1.517715</td>\n",
              "      <td>1.477586</td>\n",
              "      <td>0.383813</td>\n",
              "      <td>0.548492</td>\n",
              "      <td>01:36</td>\n",
              "    </tr>\n",
              "    <tr>\n",
              "      <td>2</td>\n",
              "      <td>1.373996</td>\n",
              "      <td>1.390953</td>\n",
              "      <td>0.466581</td>\n",
              "      <td>0.607926</td>\n",
              "      <td>01:36</td>\n",
              "    </tr>\n",
              "    <tr>\n",
              "      <td>3</td>\n",
              "      <td>1.297979</td>\n",
              "      <td>1.325322</td>\n",
              "      <td>0.479700</td>\n",
              "      <td>0.626721</td>\n",
              "      <td>01:36</td>\n",
              "    </tr>\n",
              "    <tr>\n",
              "      <td>4</td>\n",
              "      <td>1.233060</td>\n",
              "      <td>1.330888</td>\n",
              "      <td>0.517395</td>\n",
              "      <td>0.638788</td>\n",
              "      <td>01:36</td>\n",
              "    </tr>\n",
              "  </tbody>\n",
              "</table>"
            ]
          },
          "metadata": {}
        },
        {
          "output_type": "display_data",
          "data": {
            "text/plain": [
              "<IPython.core.display.HTML object>"
            ],
            "text/html": [
              "\n",
              "<style>\n",
              "    /* Turns off some styling */\n",
              "    progress {\n",
              "        /* gets rid of default border in Firefox and Opera. */\n",
              "        border: none;\n",
              "        /* Needs to be in here for Safari polyfill so background images work as expected. */\n",
              "        background-size: auto;\n",
              "    }\n",
              "    progress:not([value]), progress:not([value])::-webkit-progress-bar {\n",
              "        background: repeating-linear-gradient(45deg, #7e7e7e, #7e7e7e 10px, #5c5c5c 10px, #5c5c5c 20px);\n",
              "    }\n",
              "    .progress-bar-interrupted, .progress-bar-interrupted::-webkit-progress-bar {\n",
              "        background: #F44336;\n",
              "    }\n",
              "</style>\n"
            ]
          },
          "metadata": {}
        },
        {
          "output_type": "display_data",
          "data": {
            "text/plain": [
              "<IPython.core.display.HTML object>"
            ],
            "text/html": [
              "<table border=\"1\" class=\"dataframe\">\n",
              "  <thead>\n",
              "    <tr style=\"text-align: left;\">\n",
              "      <th>epoch</th>\n",
              "      <th>train_loss</th>\n",
              "      <th>valid_loss</th>\n",
              "      <th>dice_soft</th>\n",
              "      <th>dice_th</th>\n",
              "      <th>time</th>\n",
              "    </tr>\n",
              "  </thead>\n",
              "  <tbody>\n",
              "    <tr>\n",
              "      <td>0</td>\n",
              "      <td>1.211553</td>\n",
              "      <td>1.299374</td>\n",
              "      <td>0.528678</td>\n",
              "      <td>0.651609</td>\n",
              "      <td>03:12</td>\n",
              "    </tr>\n",
              "    <tr>\n",
              "      <td>1</td>\n",
              "      <td>1.182518</td>\n",
              "      <td>1.287952</td>\n",
              "      <td>0.546751</td>\n",
              "      <td>0.654720</td>\n",
              "      <td>03:10</td>\n",
              "    </tr>\n",
              "    <tr>\n",
              "      <td>2</td>\n",
              "      <td>1.134927</td>\n",
              "      <td>1.244462</td>\n",
              "      <td>0.579595</td>\n",
              "      <td>0.702094</td>\n",
              "      <td>03:10</td>\n",
              "    </tr>\n",
              "    <tr>\n",
              "      <td>3</td>\n",
              "      <td>1.083795</td>\n",
              "      <td>1.248155</td>\n",
              "      <td>0.610511</td>\n",
              "      <td>0.714845</td>\n",
              "      <td>03:10</td>\n",
              "    </tr>\n",
              "    <tr>\n",
              "      <td>4</td>\n",
              "      <td>1.053045</td>\n",
              "      <td>1.244945</td>\n",
              "      <td>0.616163</td>\n",
              "      <td>0.714928</td>\n",
              "      <td>03:10</td>\n",
              "    </tr>\n",
              "    <tr>\n",
              "      <td>5</td>\n",
              "      <td>1.025791</td>\n",
              "      <td>1.212455</td>\n",
              "      <td>0.636545</td>\n",
              "      <td>0.740416</td>\n",
              "      <td>03:10</td>\n",
              "    </tr>\n",
              "    <tr>\n",
              "      <td>6</td>\n",
              "      <td>0.934425</td>\n",
              "      <td>1.148775</td>\n",
              "      <td>0.645452</td>\n",
              "      <td>0.764941</td>\n",
              "      <td>03:10</td>\n",
              "    </tr>\n",
              "    <tr>\n",
              "      <td>7</td>\n",
              "      <td>0.879147</td>\n",
              "      <td>1.151328</td>\n",
              "      <td>0.705410</td>\n",
              "      <td>0.792053</td>\n",
              "      <td>03:10</td>\n",
              "    </tr>\n",
              "    <tr>\n",
              "      <td>8</td>\n",
              "      <td>0.825282</td>\n",
              "      <td>1.202249</td>\n",
              "      <td>0.723854</td>\n",
              "      <td>0.794125</td>\n",
              "      <td>03:10</td>\n",
              "    </tr>\n",
              "    <tr>\n",
              "      <td>9</td>\n",
              "      <td>0.863838</td>\n",
              "      <td>1.142674</td>\n",
              "      <td>0.686652</td>\n",
              "      <td>0.758073</td>\n",
              "      <td>03:10</td>\n",
              "    </tr>\n",
              "    <tr>\n",
              "      <td>10</td>\n",
              "      <td>0.753472</td>\n",
              "      <td>1.128418</td>\n",
              "      <td>0.740578</td>\n",
              "      <td>0.805348</td>\n",
              "      <td>03:10</td>\n",
              "    </tr>\n",
              "    <tr>\n",
              "      <td>11</td>\n",
              "      <td>0.742670</td>\n",
              "      <td>1.246912</td>\n",
              "      <td>0.760363</td>\n",
              "      <td>0.806289</td>\n",
              "      <td>03:10</td>\n",
              "    </tr>\n",
              "    <tr>\n",
              "      <td>12</td>\n",
              "      <td>0.740793</td>\n",
              "      <td>1.106413</td>\n",
              "      <td>0.763863</td>\n",
              "      <td>0.821479</td>\n",
              "      <td>03:10</td>\n",
              "    </tr>\n",
              "    <tr>\n",
              "      <td>13</td>\n",
              "      <td>0.683172</td>\n",
              "      <td>1.165463</td>\n",
              "      <td>0.784873</td>\n",
              "      <td>0.822260</td>\n",
              "      <td>03:10</td>\n",
              "    </tr>\n",
              "    <tr>\n",
              "      <td>14</td>\n",
              "      <td>0.618888</td>\n",
              "      <td>1.117595</td>\n",
              "      <td>0.763840</td>\n",
              "      <td>0.812540</td>\n",
              "      <td>03:10</td>\n",
              "    </tr>\n",
              "    <tr>\n",
              "      <td>15</td>\n",
              "      <td>0.556095</td>\n",
              "      <td>1.132849</td>\n",
              "      <td>0.764120</td>\n",
              "      <td>0.811876</td>\n",
              "      <td>03:10</td>\n",
              "    </tr>\n",
              "    <tr>\n",
              "      <td>16</td>\n",
              "      <td>0.546772</td>\n",
              "      <td>1.173717</td>\n",
              "      <td>0.821292</td>\n",
              "      <td>0.842566</td>\n",
              "      <td>03:10</td>\n",
              "    </tr>\n",
              "    <tr>\n",
              "      <td>17</td>\n",
              "      <td>0.521724</td>\n",
              "      <td>1.198255</td>\n",
              "      <td>0.801341</td>\n",
              "      <td>0.829769</td>\n",
              "      <td>03:10</td>\n",
              "    </tr>\n",
              "    <tr>\n",
              "      <td>18</td>\n",
              "      <td>0.535596</td>\n",
              "      <td>1.181233</td>\n",
              "      <td>0.809715</td>\n",
              "      <td>0.841466</td>\n",
              "      <td>03:10</td>\n",
              "    </tr>\n",
              "    <tr>\n",
              "      <td>19</td>\n",
              "      <td>0.486569</td>\n",
              "      <td>1.167995</td>\n",
              "      <td>0.817789</td>\n",
              "      <td>0.839189</td>\n",
              "      <td>03:10</td>\n",
              "    </tr>\n",
              "    <tr>\n",
              "      <td>20</td>\n",
              "      <td>0.464607</td>\n",
              "      <td>1.353749</td>\n",
              "      <td>0.811494</td>\n",
              "      <td>0.832671</td>\n",
              "      <td>03:10</td>\n",
              "    </tr>\n",
              "    <tr>\n",
              "      <td>21</td>\n",
              "      <td>0.432955</td>\n",
              "      <td>1.189502</td>\n",
              "      <td>0.805858</td>\n",
              "      <td>0.828325</td>\n",
              "      <td>03:10</td>\n",
              "    </tr>\n",
              "    <tr>\n",
              "      <td>22</td>\n",
              "      <td>0.427154</td>\n",
              "      <td>1.326491</td>\n",
              "      <td>0.804716</td>\n",
              "      <td>0.827490</td>\n",
              "      <td>03:10</td>\n",
              "    </tr>\n",
              "    <tr>\n",
              "      <td>23</td>\n",
              "      <td>0.414830</td>\n",
              "      <td>1.155862</td>\n",
              "      <td>0.825004</td>\n",
              "      <td>0.846122</td>\n",
              "      <td>03:10</td>\n",
              "    </tr>\n",
              "    <tr>\n",
              "      <td>24</td>\n",
              "      <td>0.467184</td>\n",
              "      <td>1.198888</td>\n",
              "      <td>0.788542</td>\n",
              "      <td>0.827484</td>\n",
              "      <td>03:10</td>\n",
              "    </tr>\n",
              "    <tr>\n",
              "      <td>25</td>\n",
              "      <td>0.397509</td>\n",
              "      <td>1.374575</td>\n",
              "      <td>0.820071</td>\n",
              "      <td>0.839271</td>\n",
              "      <td>03:10</td>\n",
              "    </tr>\n",
              "    <tr>\n",
              "      <td>26</td>\n",
              "      <td>0.353937</td>\n",
              "      <td>1.291541</td>\n",
              "      <td>0.834363</td>\n",
              "      <td>0.853363</td>\n",
              "      <td>03:10</td>\n",
              "    </tr>\n",
              "    <tr>\n",
              "      <td>27</td>\n",
              "      <td>0.345941</td>\n",
              "      <td>1.325367</td>\n",
              "      <td>0.822821</td>\n",
              "      <td>0.842190</td>\n",
              "      <td>03:10</td>\n",
              "    </tr>\n",
              "    <tr>\n",
              "      <td>28</td>\n",
              "      <td>0.323461</td>\n",
              "      <td>1.381797</td>\n",
              "      <td>0.841421</td>\n",
              "      <td>0.851623</td>\n",
              "      <td>03:10</td>\n",
              "    </tr>\n",
              "    <tr>\n",
              "      <td>29</td>\n",
              "      <td>0.306866</td>\n",
              "      <td>1.344113</td>\n",
              "      <td>0.840473</td>\n",
              "      <td>0.855004</td>\n",
              "      <td>03:10</td>\n",
              "    </tr>\n",
              "    <tr>\n",
              "      <td>30</td>\n",
              "      <td>0.278300</td>\n",
              "      <td>1.440356</td>\n",
              "      <td>0.839176</td>\n",
              "      <td>0.848767</td>\n",
              "      <td>03:10</td>\n",
              "    </tr>\n",
              "    <tr>\n",
              "      <td>31</td>\n",
              "      <td>0.282504</td>\n",
              "      <td>1.361659</td>\n",
              "      <td>0.846547</td>\n",
              "      <td>0.856658</td>\n",
              "      <td>03:10</td>\n",
              "    </tr>\n",
              "    <tr>\n",
              "      <td>32</td>\n",
              "      <td>0.277828</td>\n",
              "      <td>1.461657</td>\n",
              "      <td>0.840349</td>\n",
              "      <td>0.851914</td>\n",
              "      <td>03:10</td>\n",
              "    </tr>\n",
              "    <tr>\n",
              "      <td>33</td>\n",
              "      <td>0.280128</td>\n",
              "      <td>1.458739</td>\n",
              "      <td>0.840203</td>\n",
              "      <td>0.853123</td>\n",
              "      <td>03:10</td>\n",
              "    </tr>\n",
              "    <tr>\n",
              "      <td>34</td>\n",
              "      <td>0.273424</td>\n",
              "      <td>1.426677</td>\n",
              "      <td>0.842227</td>\n",
              "      <td>0.853651</td>\n",
              "      <td>03:10</td>\n",
              "    </tr>\n",
              "    <tr>\n",
              "      <td>35</td>\n",
              "      <td>0.250613</td>\n",
              "      <td>1.446725</td>\n",
              "      <td>0.847757</td>\n",
              "      <td>0.856435</td>\n",
              "      <td>03:10</td>\n",
              "    </tr>\n",
              "    <tr>\n",
              "      <td>36</td>\n",
              "      <td>0.238110</td>\n",
              "      <td>1.494090</td>\n",
              "      <td>0.849344</td>\n",
              "      <td>0.859059</td>\n",
              "      <td>03:10</td>\n",
              "    </tr>\n",
              "    <tr>\n",
              "      <td>37</td>\n",
              "      <td>0.235508</td>\n",
              "      <td>1.488492</td>\n",
              "      <td>0.847071</td>\n",
              "      <td>0.857431</td>\n",
              "      <td>03:10</td>\n",
              "    </tr>\n",
              "    <tr>\n",
              "      <td>38</td>\n",
              "      <td>0.219651</td>\n",
              "      <td>1.479187</td>\n",
              "      <td>0.851374</td>\n",
              "      <td>0.859823</td>\n",
              "      <td>03:10</td>\n",
              "    </tr>\n",
              "    <tr>\n",
              "      <td>39</td>\n",
              "      <td>0.221231</td>\n",
              "      <td>1.551521</td>\n",
              "      <td>0.846248</td>\n",
              "      <td>0.856176</td>\n",
              "      <td>03:10</td>\n",
              "    </tr>\n",
              "    <tr>\n",
              "      <td>40</td>\n",
              "      <td>0.202565</td>\n",
              "      <td>1.575242</td>\n",
              "      <td>0.847111</td>\n",
              "      <td>0.858084</td>\n",
              "      <td>03:10</td>\n",
              "    </tr>\n",
              "    <tr>\n",
              "      <td>41</td>\n",
              "      <td>0.191883</td>\n",
              "      <td>1.636640</td>\n",
              "      <td>0.849146</td>\n",
              "      <td>0.858015</td>\n",
              "      <td>03:10</td>\n",
              "    </tr>\n",
              "    <tr>\n",
              "      <td>42</td>\n",
              "      <td>0.180762</td>\n",
              "      <td>1.602592</td>\n",
              "      <td>0.851733</td>\n",
              "      <td>0.859709</td>\n",
              "      <td>03:10</td>\n",
              "    </tr>\n",
              "    <tr>\n",
              "      <td>43</td>\n",
              "      <td>0.199248</td>\n",
              "      <td>1.643067</td>\n",
              "      <td>0.849590</td>\n",
              "      <td>0.858657</td>\n",
              "      <td>03:10</td>\n",
              "    </tr>\n",
              "    <tr>\n",
              "      <td>44</td>\n",
              "      <td>0.183396</td>\n",
              "      <td>1.675433</td>\n",
              "      <td>0.851746</td>\n",
              "      <td>0.859676</td>\n",
              "      <td>03:10</td>\n",
              "    </tr>\n",
              "    <tr>\n",
              "      <td>45</td>\n",
              "      <td>0.191981</td>\n",
              "      <td>1.657140</td>\n",
              "      <td>0.850558</td>\n",
              "      <td>0.859033</td>\n",
              "      <td>03:10</td>\n",
              "    </tr>\n",
              "    <tr>\n",
              "      <td>46</td>\n",
              "      <td>0.181443</td>\n",
              "      <td>1.662628</td>\n",
              "      <td>0.851195</td>\n",
              "      <td>0.859225</td>\n",
              "      <td>03:10</td>\n",
              "    </tr>\n",
              "    <tr>\n",
              "      <td>47</td>\n",
              "      <td>0.190327</td>\n",
              "      <td>1.699088</td>\n",
              "      <td>0.850282</td>\n",
              "      <td>0.858616</td>\n",
              "      <td>03:10</td>\n",
              "    </tr>\n",
              "    <tr>\n",
              "      <td>48</td>\n",
              "      <td>0.181454</td>\n",
              "      <td>1.686795</td>\n",
              "      <td>0.850858</td>\n",
              "      <td>0.858817</td>\n",
              "      <td>03:10</td>\n",
              "    </tr>\n",
              "    <tr>\n",
              "      <td>49</td>\n",
              "      <td>0.186997</td>\n",
              "      <td>1.670058</td>\n",
              "      <td>0.850854</td>\n",
              "      <td>0.859059</td>\n",
              "      <td>03:10</td>\n",
              "    </tr>\n",
              "  </tbody>\n",
              "</table>"
            ]
          },
          "metadata": {}
        },
        {
          "output_type": "stream",
          "name": "stdout",
          "text": [
            "Better model found at epoch 0 with dice_th value: 0.6516088247299194.\n",
            "Better model found at epoch 1 with dice_th value: 0.6547200083732605.\n",
            "Better model found at epoch 2 with dice_th value: 0.7020940184593201.\n",
            "Better model found at epoch 3 with dice_th value: 0.7148454785346985.\n",
            "Better model found at epoch 4 with dice_th value: 0.7149280905723572.\n",
            "Better model found at epoch 5 with dice_th value: 0.7404156923294067.\n",
            "Better model found at epoch 6 with dice_th value: 0.764941394329071.\n",
            "Better model found at epoch 7 with dice_th value: 0.7920525074005127.\n",
            "Better model found at epoch 8 with dice_th value: 0.7941254377365112.\n",
            "Better model found at epoch 10 with dice_th value: 0.8053478598594666.\n",
            "Better model found at epoch 11 with dice_th value: 0.8062892556190491.\n",
            "Better model found at epoch 12 with dice_th value: 0.8214791417121887.\n",
            "Better model found at epoch 13 with dice_th value: 0.8222601413726807.\n",
            "Better model found at epoch 16 with dice_th value: 0.842565655708313.\n",
            "Better model found at epoch 23 with dice_th value: 0.8461222052574158.\n",
            "Better model found at epoch 26 with dice_th value: 0.853362500667572.\n",
            "Better model found at epoch 29 with dice_th value: 0.8550040125846863.\n",
            "Better model found at epoch 31 with dice_th value: 0.8566575050354004.\n",
            "Better model found at epoch 36 with dice_th value: 0.8590591549873352.\n",
            "Better model found at epoch 38 with dice_th value: 0.8598232865333557.\n"
          ]
        },
        {
          "output_type": "display_data",
          "data": {
            "text/plain": [
              "<IPython.core.display.HTML object>"
            ],
            "text/html": [
              "\n",
              "<style>\n",
              "    /* Turns off some styling */\n",
              "    progress {\n",
              "        /* gets rid of default border in Firefox and Opera. */\n",
              "        border: none;\n",
              "        /* Needs to be in here for Safari polyfill so background images work as expected. */\n",
              "        background-size: auto;\n",
              "    }\n",
              "    progress:not([value]), progress:not([value])::-webkit-progress-bar {\n",
              "        background: repeating-linear-gradient(45deg, #7e7e7e, #7e7e7e 10px, #5c5c5c 10px, #5c5c5c 20px);\n",
              "    }\n",
              "    .progress-bar-interrupted, .progress-bar-interrupted::-webkit-progress-bar {\n",
              "        background: #F44336;\n",
              "    }\n",
              "</style>\n"
            ]
          },
          "metadata": {}
        },
        {
          "output_type": "display_data",
          "data": {
            "text/plain": [
              "<IPython.core.display.HTML object>"
            ],
            "text/html": [
              "\n",
              "    <div>\n",
              "      <progress value='352' class='' max='352' style='width:300px; height:20px; vertical-align: middle;'></progress>\n",
              "      100.00% [352/352 01:34&lt;00:00]\n",
              "    </div>\n",
              "    "
            ]
          },
          "metadata": {}
        }
      ],
      "source": [
        "dice = Dice_th_pred(np.arange(0.2,0.7,0.01))\n",
        "for fold in range(1):\n",
        "    ds_t = HuBMAPDataset(fold=fold, train=True)\n",
        "    ds_v = HuBMAPDataset(fold=fold, train=False)\n",
        "    data = ImageDataLoaders.from_dsets(ds_t,ds_v,bs=bs,\n",
        "                num_workers=NUM_WORKERS,pin_memory=True).cuda()\n",
        "    model = EffUnet('efficientnet-b2').cuda()\n",
        "    learn = Learner(data, model, loss_func=symmetric_lovasz,\n",
        "                metrics=[Dice_soft(),Dice_th()], \n",
        "                splitter=split_layers,\n",
        "                cbs=WandbCallback())\n",
        "    # .to_fp16(clip=0.5)\n",
        "    \n",
        "    #start with training the head\n",
        "    learn.freeze_to(-1) #doesn't work\n",
        "    for param in learn.opt.param_groups[0]['params']:\n",
        "        param.requires_grad = False\n",
        "    learn.fit_one_cycle(head_epochs, lr_max=lr_max)\n",
        "\n",
        "    #continue training full model\n",
        "    learn.unfreeze()\n",
        "    # learn.fit_one_cycle(full_epochs, lr_max=lr_slice,\n",
        "    #     cbs=SaveModelCallback(monitor='dice_th',comp=np.greater)) # dice_th 제일 높은 기준으로 저장\n",
        "    learn.fit_one_cycle(full_epochs, lr_max=lr_slice,\n",
        "        cbs=SaveModelCallback(monitor='valid_loss',comp=np.less)) # valid_loss 제일 낮은 기준으로 저장\n",
        "    torch.save(learn.model.state_dict(),f'model_{fold}.pth')\n",
        "    \n",
        "    #model evaluation on val and saving the masks\n",
        "    mp = Model_pred(learn.model,learn.dls.loaders[1])\n",
        "    with zipfile.ZipFile('val_masks_tta.zip', 'a') as out:\n",
        "        for p in progress_bar(mp):\n",
        "            dice.accumulate(p[0],p[1])\n",
        "            save_img(p[0],p[2],out)\n",
        "    gc.collect()"
      ]
    },
    {
      "cell_type": "code",
      "execution_count": null,
      "metadata": {
        "execution": {
          "iopub.execute_input": "2022-07-11T16:10:53.990103Z",
          "iopub.status.busy": "2022-07-11T16:10:53.989292Z",
          "iopub.status.idle": "2022-07-11T16:10:54.176649Z",
          "shell.execute_reply": "2022-07-11T16:10:54.175832Z"
        },
        "id": "slAT21BmLBce",
        "outputId": "d8507429-1798-4821-bc49-3bb17db4b54e",
        "papermill": {
          "duration": 0.254718,
          "end_time": "2022-07-11T16:10:54.176762",
          "exception": false,
          "start_time": "2022-07-11T16:10:53.922044",
          "status": "completed"
        },
        "tags": []
      },
      "outputs": [
        {
          "data": {
            "image/png": "[encoded data removed]",
            "text/plain": [
              "<Figure size 576x288 with 1 Axes>"
            ]
          },
          "metadata": {
            "needs_background": "light"
          },
          "output_type": "display_data"
        }
      ],
      "source": [
        "dices = dice.value\n",
        "noise_ths = dice.ths\n",
        "best_dice = dices.max()\n",
        "best_thr = noise_ths[dices.argmax()]\n",
        "plt.figure(figsize=(8,4))\n",
        "plt.plot(noise_ths, dices, color='blue')\n",
        "plt.vlines(x=best_thr, ymin=dices.min(), ymax=dices.max(), colors='black')\n",
        "d = dices.max() - dices.min()\n",
        "plt.text(noise_ths[-1]-0.1, best_dice-0.1*d, f'DICE = {best_dice:.3f}', fontsize=12);\n",
        "plt.text(noise_ths[-1]-0.1, best_dice-0.2*d, f'TH = {best_thr:.3f}', fontsize=12);\n",
        "plt.show()"
      ]
    },
    {
      "cell_type": "code",
      "execution_count": null,
      "metadata": {
        "id": "FrWVvUwCnRDn"
      },
      "outputs": [],
      "source": [
        "# !mkdir {dataset_name}\n",
        "# !mv ./model_0.pth ./{dataset_name}\n",
        "# !mv ./model_1.pth ./{dataset_name}\n",
        "# !mv ./model_2.pth ./{dataset_name}\n",
        "# !mv ./model_3.pth ./{dataset_name}"
      ]
    },
    {
      "cell_type": "code",
      "execution_count": null,
      "metadata": {
        "id": "a3iq9CVzqoeC",
        "outputId": "fd5c563d-46ca-4538-d881-888dc4f64a51"
      },
      "outputs": [
        {
          "name": "stdout",
          "output_type": "stream",
          "text": [
            "\tzip warning: name not matched: ./model\n",
            "\n",
            "zip error: Nothing to do! (try: zip -r ulala.zip . -i ./model)\n"
          ]
        }
      ],
      "source": [
        "# !zip {dataset_name}.zip -r ./{dataset_name}"
      ]
    },
    {
      "cell_type": "code",
      "execution_count": null,
      "metadata": {
        "id": "_qCYshh0qoeC"
      },
      "outputs": [],
      "source": []
    }
  ],
  "metadata": {
    "accelerator": "GPU",
    "colab": {
      "collapsed_sections": [],
      "provenance": [],
      "machine_shape": "hm",
      "include_colab_link": true
    },
    "gpuClass": "standard",
    "kernelspec": {
      "display_name": "Python 3.8.10 64-bit",
      "language": "python",
      "name": "python3"
    },
    "language_info": {
      "codemirror_mode": {
        "name": "ipython",
        "version": 3
      },
      "file_extension": ".py",
      "mimetype": "text/x-python",
      "name": "python",
      "nbconvert_exporter": "python",
      "pygments_lexer": "ipython3",
      "version": "3.8.10"
    },
    "papermill": {
      "duration": 19044.876301,
      "end_time": "2022-07-11T16:10:55.460439",
      "environment_variables": {},
      "exception": null,
      "input_path": "__notebook__.ipynb",
      "output_path": "__notebook__.ipynb",
      "parameters": {},
      "start_time": "2022-07-11T10:53:30.584138",
      "version": "2.1.0"
    },
    "vscode": {
      "interpreter": {
        "hash": "916dbcbb3f70747c44a77c7bcd40155683ae19c65e1c03b4aa3499c5328201f1"
      }
    }
  },
  "nbformat": 4,
  "nbformat_minor": 0
}